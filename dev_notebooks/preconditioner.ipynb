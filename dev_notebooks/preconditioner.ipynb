{
 "cells": [
  {
   "cell_type": "code",
   "execution_count": 4,
   "metadata": {
    "collapsed": true
   },
   "outputs": [],
   "source": [
    "import operator\n",
    "import functools\n",
    "import multipledispatch\n",
    "import dask\n",
    "import dask.array as da"
   ]
  },
  {
   "cell_type": "code",
   "execution_count": 5,
   "metadata": {},
   "outputs": [
    {
     "name": "stdout",
     "output_type": "stream",
     "text": [
      "/Users/Baris/Documents/Thesis/modules/scs-dask\n"
     ]
    }
   ],
   "source": [
    "import sys\n",
    "import os\n",
    "PROJECT_PATH = os.path.realpath(os.path.join(os.getcwd(), '..'))\n",
    "print PROJECT_PATH\n",
    "sys.path.append(PROJECT_PATH)"
   ]
  },
  {
   "cell_type": "code",
   "execution_count": 6,
   "metadata": {},
   "outputs": [],
   "source": [
    "from scs_dask.linalg import linear_operator as linop\n",
    "from scs_dask.linalg import atoms"
   ]
  },
  {
   "cell_type": "code",
   "execution_count": 7,
   "metadata": {},
   "outputs": [],
   "source": [
    "namespace_preconditioner = dict()\n",
    "dispatch = functools.partial(\n",
    "        multipledispatch.dispatch, namespace=namespace_preconditioner)"
   ]
  },
  {
   "cell_type": "code",
   "execution_count": 17,
   "metadata": {
    "collapsed": true
   },
   "outputs": [],
   "source": [
    "@dispatch(da.Array)\n",
    "def jacobi_preconditioner(array, name=None):\n",
    "    name = 'jacobi-precond-' + array.name if name is None else name\n",
    "    m, n = array.shape\n",
    "    assert m == n, 'preconditioner expects square linear operator'\n",
    "    diag = da.diag(array)\n",
    "    return linop.DLODiagonal(da.core.map_blocks(da.reciprocal, diag, name=name))"
   ]
  },
  {
   "cell_type": "code",
   "execution_count": 18,
   "metadata": {
    "collapsed": true
   },
   "outputs": [],
   "source": [
    "@dispatch(linop.DLODense)\n",
    "def jacobi_preconditioner(linear_op, name=None):\n",
    "    return jacobi_preconditioner(linear_op.data, name=name)"
   ]
  },
  {
   "cell_type": "code",
   "execution_count": 31,
   "metadata": {
    "collapsed": true
   },
   "outputs": [],
   "source": [
    "@dispatch(linop.DLOGram)\n",
    "def jacobi_preconditioner(linear_op, name=None):\n",
    "    name = 'jacobi-precond-' + linear_op.name if name is None else name\n",
    "    diag = atoms.diag_gram(linear_op)\n",
    "    return linop.DLODiagonal(da.core.map_blocks(da.reciprocal, diag, name=name))"
   ]
  },
  {
   "cell_type": "code",
   "execution_count": 32,
   "metadata": {
    "collapsed": true
   },
   "outputs": [],
   "source": [
    "import numpy as np\n",
    "d_test = np.random.random(100)\n",
    "A_test = da.from_array(np.diag(d_test), chunks=10)"
   ]
  },
  {
   "cell_type": "code",
   "execution_count": 33,
   "metadata": {},
   "outputs": [],
   "source": [
    "(ones,) = dask.compute(jacobi_preconditioner(A_test).data * d_test)\n",
    "assert np.linalg.norm(ones - 1) < 1e-15 * (1 + np.linalg.norm(ones))"
   ]
  },
  {
   "cell_type": "code",
   "execution_count": 34,
   "metadata": {
    "collapsed": true
   },
   "outputs": [],
   "source": [
    "(ones,) = dask.compute(jacobi_preconditioner(linop.DLODense(A_test)).data * d_test)\n",
    "assert np.linalg.norm(ones - 1) < 1e-15 * (1 + np.linalg.norm(ones))"
   ]
  },
  {
   "cell_type": "code",
   "execution_count": 35,
   "metadata": {},
   "outputs": [],
   "source": [
    "(ones,) = dask.compute(jacobi_preconditioner(linop.DLOGram(A_test)).data * d_test * d_test)\n",
    "assert np.linalg.norm(ones - 1) < 1e-15 * (1 + np.linalg.norm(ones))"
   ]
  },
  {
   "cell_type": "code",
   "execution_count": 36,
   "metadata": {
    "collapsed": true
   },
   "outputs": [],
   "source": [
    "(ones,) = dask.compute(jacobi_preconditioner(linop.DLORegularizedGram(A_test)).data * (1 + d_test * d_test))\n",
    "assert np.linalg.norm(ones - 1) < 1e-15 * (1 + np.linalg.norm(ones))"
   ]
  },
  {
   "cell_type": "code",
   "execution_count": 37,
   "metadata": {
    "collapsed": true
   },
   "outputs": [],
   "source": [
    "mu = 1 + np.random.random()\n",
    "muIAA = mu + d_test * d_test\n",
    "(ones,) = dask.compute(jacobi_preconditioner(linop.DLORegularizedGram(A_test, regularization=mu)).data * muIAA)\n",
    "assert np.linalg.norm(ones - 1) < 1e-15 * (1 + np.linalg.norm(ones))"
   ]
  },
  {
   "cell_type": "code",
   "execution_count": null,
   "metadata": {
    "collapsed": true
   },
   "outputs": [],
   "source": []
  }
 ],
 "metadata": {
  "kernelspec": {
   "display_name": "Python 2",
   "language": "python",
   "name": "python2"
  },
  "language_info": {
   "codemirror_mode": {
    "name": "ipython",
    "version": 2
   },
   "file_extension": ".py",
   "mimetype": "text/x-python",
   "name": "python",
   "nbconvert_exporter": "python",
   "pygments_lexer": "ipython2",
   "version": "2.7.13"
  }
 },
 "nbformat": 4,
 "nbformat_minor": 2
}
