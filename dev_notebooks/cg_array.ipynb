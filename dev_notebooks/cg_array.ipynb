{
 "cells": [
  {
   "cell_type": "code",
   "execution_count": 1,
   "metadata": {
    "collapsed": true
   },
   "outputs": [],
   "source": [
    "import dask\n",
    "import dask.array as da"
   ]
  },
  {
   "cell_type": "code",
   "execution_count": 2,
   "metadata": {
    "collapsed": true
   },
   "outputs": [],
   "source": [
    "def update(a):\n",
    "    aold = a\n",
    "    a = 2 * aold\n",
    "    (a,) = dask.persist(a)\n",
    "    return a"
   ]
  },
  {
   "cell_type": "code",
   "execution_count": 3,
   "metadata": {
    "collapsed": true
   },
   "outputs": [],
   "source": [
    "b = da.random.random(10, chunks=10)"
   ]
  },
  {
   "cell_type": "code",
   "execution_count": 4,
   "metadata": {},
   "outputs": [
    {
     "name": "stdout",
     "output_type": "stream",
     "text": [
      "[('da.random.random_sample-a8690c4e6e64ba86cd9d6011f8397875', 0)]\n"
     ]
    }
   ],
   "source": [
    "print b.dask.keys()"
   ]
  },
  {
   "cell_type": "code",
   "execution_count": 5,
   "metadata": {
    "collapsed": true
   },
   "outputs": [],
   "source": [
    "c = update(b)"
   ]
  },
  {
   "cell_type": "code",
   "execution_count": 6,
   "metadata": {},
   "outputs": [
    {
     "name": "stdout",
     "output_type": "stream",
     "text": [
      "[('mul-76923e61f627666b57781f497c3ba165', 0)]\n"
     ]
    }
   ],
   "source": [
    "print c.dask.keys()"
   ]
  },
  {
   "cell_type": "code",
   "execution_count": 7,
   "metadata": {
    "collapsed": true
   },
   "outputs": [],
   "source": [
    "d = update(c)"
   ]
  },
  {
   "cell_type": "code",
   "execution_count": 8,
   "metadata": {},
   "outputs": [
    {
     "name": "stdout",
     "output_type": "stream",
     "text": [
      "[('mul-59d25d3329b2b800e03a0e6ea21ae6c0', 0)]\n"
     ]
    }
   ],
   "source": [
    "print d.dask.keys()"
   ]
  },
  {
   "cell_type": "code",
   "execution_count": 9,
   "metadata": {
    "collapsed": true
   },
   "outputs": [],
   "source": [
    "def binary_update(a, b):\n",
    "    aold, bold = a, b\n",
    "    a = 2 * aold + 0.5 * bold\n",
    "    b = 0.5 * aold + 2 * bold\n",
    "    a, b = dask.persist(a, b)\n",
    "    return a, b"
   ]
  },
  {
   "cell_type": "code",
   "execution_count": 10,
   "metadata": {
    "collapsed": true
   },
   "outputs": [],
   "source": [
    "A = da.random.random(10, chunks=10)\n",
    "B = da.random.random(10, chunks=10)"
   ]
  },
  {
   "cell_type": "code",
   "execution_count": 11,
   "metadata": {
    "collapsed": true
   },
   "outputs": [],
   "source": [
    "A2, B2 = binary_update(A, B)"
   ]
  },
  {
   "cell_type": "code",
   "execution_count": 12,
   "metadata": {},
   "outputs": [
    {
     "name": "stdout",
     "output_type": "stream",
     "text": [
      "done\n"
     ]
    }
   ],
   "source": [
    "for i in range(10):\n",
    "    A2, B2 = binary_update(A, B)\n",
    "    assert len(A.dask) == len(A2.dask), 'A dasks equal len'\n",
    "    assert len(B.dask) == len(B2.dask), 'B dasks equal len'\n",
    "    A, B = A2, B2\n",
    "\n",
    "print 'done'"
   ]
  },
  {
   "cell_type": "code",
   "execution_count": 13,
   "metadata": {
    "collapsed": true
   },
   "outputs": [],
   "source": [
    "def quaternary_update(a, b, c, d):\n",
    "    aold, bold, cold, dold = a, b, c, d\n",
    "    a = 2 * aold + 0.5 * bold\n",
    "    b = 0.5 * aold + 2 * bold\n",
    "    c = cold - 2 * b\n",
    "    d = b.dot(b)\n",
    "    a, b, c, d = dask.persist(a, b, c, d)\n",
    "    return a, b, c, d"
   ]
  },
  {
   "cell_type": "code",
   "execution_count": 14,
   "metadata": {
    "collapsed": true
   },
   "outputs": [],
   "source": [
    "A = da.random.random(10, chunks=10)\n",
    "B = da.random.random(10, chunks=10)\n",
    "C = da.random.random(10, chunks=10)\n",
    "D = B.dot(B)\n",
    "(D,) = dask.persist(D)"
   ]
  },
  {
   "cell_type": "code",
   "execution_count": 15,
   "metadata": {
    "collapsed": true
   },
   "outputs": [],
   "source": [
    "A2, B2, C2, D2 = quaternary_update(A, B, C, D)"
   ]
  },
  {
   "cell_type": "code",
   "execution_count": 16,
   "metadata": {},
   "outputs": [
    {
     "name": "stdout",
     "output_type": "stream",
     "text": [
      "1 1\n",
      "1 1\n",
      "1 1\n",
      "1 1\n"
     ]
    }
   ],
   "source": [
    "print len(A.dask), len(A2.dask)\n",
    "print len(B.dask), len(B2.dask)\n",
    "print len(C.dask), len(C2.dask)\n",
    "print len(D.dask), len(D2.dask)"
   ]
  },
  {
   "cell_type": "code",
   "execution_count": 17,
   "metadata": {
    "collapsed": true
   },
   "outputs": [],
   "source": [
    "def quaternary_update_with_data(a, b, c, d, data):\n",
    "    aold, bold, cold, dold = a, b, c, d\n",
    "    a = 2 * data.dot(aold) + 0.5 * bold\n",
    "    b = 0.5 * data.dot(aold) + 2 * bold\n",
    "    c = cold - 2 * b\n",
    "    d = b.dot(b)\n",
    "    a, b, c, d = dask.persist(a, b, c, d)\n",
    "    return a, b, c, d"
   ]
  },
  {
   "cell_type": "code",
   "execution_count": 18,
   "metadata": {
    "collapsed": true
   },
   "outputs": [],
   "source": [
    "DATA = da.random.random((10, 10), chunks=10)"
   ]
  },
  {
   "cell_type": "code",
   "execution_count": 19,
   "metadata": {
    "collapsed": true
   },
   "outputs": [],
   "source": [
    "A2, B2, C2, D2 = quaternary_update_with_data(A, B, C, D, DATA)"
   ]
  },
  {
   "cell_type": "code",
   "execution_count": 20,
   "metadata": {},
   "outputs": [
    {
     "name": "stdout",
     "output_type": "stream",
     "text": [
      "1 1\n",
      "1 1\n",
      "1 1\n",
      "1 1\n"
     ]
    }
   ],
   "source": [
    "print len(A.dask), len(A2.dask)\n",
    "print len(B.dask), len(B2.dask)\n",
    "print len(C.dask), len(C2.dask)\n",
    "print len(D.dask), len(D2.dask)"
   ]
  },
  {
   "cell_type": "code",
   "execution_count": 21,
   "metadata": {
    "collapsed": true
   },
   "outputs": [],
   "source": [
    "m = 20\n",
    "mc = 10"
   ]
  },
  {
   "cell_type": "code",
   "execution_count": 22,
   "metadata": {
    "collapsed": true
   },
   "outputs": [],
   "source": [
    "A = da.random.random(m, chunks=mc)\n",
    "B = da.random.random(m, chunks=mc)\n",
    "C = da.random.random(m, chunks=mc)\n",
    "D = B.dot(B)\n",
    "(D,) = dask.persist(D)\n",
    "DATA = da.random.random((m, m), chunks=mc)"
   ]
  },
  {
   "cell_type": "code",
   "execution_count": 23,
   "metadata": {},
   "outputs": [
    {
     "name": "stdout",
     "output_type": "stream",
     "text": [
      "2 2\n",
      "2 2\n",
      "2 2\n",
      "1 1\n"
     ]
    }
   ],
   "source": [
    "A2, B2, C2, D2 = quaternary_update_with_data(A, B, C, D, DATA)\n",
    "print len(A.dask), len(A2.dask)\n",
    "print len(B.dask), len(B2.dask)\n",
    "print len(C.dask), len(C2.dask)\n",
    "print len(D.dask), len(D2.dask)"
   ]
  },
  {
   "cell_type": "code",
   "execution_count": 24,
   "metadata": {
    "collapsed": true
   },
   "outputs": [],
   "source": [
    "def ternary_update_with_data(x, r, p, A):\n",
    "    ox, or_, op = x, r, p\n",
    "    Ap = A.dot(op)\n",
    "    alpha = or_.dot(or_) / op.dot(Ap)\n",
    "    x = ox + alpha * op\n",
    "    r = or_ - alpha * Ap\n",
    "    p = r + op * r.dot(r) / or_.dot(or_)\n",
    "    x, r, p = dask.persist(x, r, p)\n",
    "    return x, r, p"
   ]
  },
  {
   "cell_type": "code",
   "execution_count": 25,
   "metadata": {},
   "outputs": [
    {
     "name": "stdout",
     "output_type": "stream",
     "text": [
      "2 2\n",
      "2 2\n",
      "2 2\n"
     ]
    }
   ],
   "source": [
    "A2, B2, C2 = ternary_update_with_data(A, B, C, DATA)\n",
    "print len(A.dask), len(A2.dask)\n",
    "print len(B.dask), len(B2.dask)\n",
    "print len(C.dask), len(C2.dask)"
   ]
  },
  {
   "cell_type": "code",
   "execution_count": 26,
   "metadata": {
    "collapsed": true
   },
   "outputs": [],
   "source": [
    "import time "
   ]
  },
  {
   "cell_type": "code",
   "execution_count": 27,
   "metadata": {},
   "outputs": [
    {
     "name": "stdout",
     "output_type": "stream",
     "text": [
      "0 0.0564198493958\n",
      "1 0.0598909854889\n",
      "2 0.0627830028534\n",
      "3 0.061320066452\n",
      "4 0.0502400398254\n",
      "5 0.048807144165\n",
      "6 0.0493011474609\n",
      "7 0.0481998920441\n",
      "8 0.049870967865\n",
      "9 0.0474500656128\n",
      "10 0.0494909286499\n",
      "11 0.0478911399841\n",
      "12 0.0462191104889\n",
      "13 0.047847032547\n",
      "14 0.0516381263733\n",
      "15 0.0589091777802\n",
      "16 0.0600678920746\n",
      "17 0.0731048583984\n",
      "18 0.0747520923615\n",
      "19 0.0685570240021\n",
      "20 0.0519578456879\n",
      "21 0.0485479831696\n",
      "22 0.052463054657\n",
      "23 0.064857006073\n",
      "24 0.0730340480804\n",
      "25 0.0662229061127\n",
      "26 0.0899589061737\n",
      "27 0.0755879878998\n",
      "28 0.0500431060791\n",
      "29 0.0460929870605\n",
      "30 0.0457689762115\n",
      "31 0.0507090091705\n",
      "32 0.0475850105286\n",
      "33 0.0504679679871\n",
      "34 0.0624830722809\n",
      "35 0.0630528926849\n",
      "36 0.0579299926758\n",
      "37 0.0616838932037\n",
      "38 0.0743989944458\n",
      "39 0.0756669044495\n",
      "40 0.0866801738739\n",
      "41 0.0603241920471\n",
      "42 0.0468690395355\n",
      "43 0.0528130531311\n",
      "44 0.0751800537109\n",
      "45 0.0656337738037\n",
      "46 0.0571029186249\n",
      "47 0.0489459037781\n",
      "48 0.0496890544891\n",
      "49 0.0527808666229\n",
      "50 0.0457608699799\n",
      "51 0.0492880344391\n",
      "52 0.0907151699066\n",
      "53 0.0786499977112\n",
      "54 0.0884211063385\n",
      "55 0.0501489639282\n",
      "56 0.0508708953857\n",
      "57 0.0472309589386\n",
      "58 0.0473489761353\n",
      "59 0.0465548038483\n",
      "60 0.0481550693512\n",
      "61 0.0465040206909\n",
      "62 0.0611357688904\n",
      "63 0.0845849514008\n",
      "64 0.0524189472198\n",
      "65 0.0499920845032\n",
      "66 0.0444118976593\n",
      "67 0.046797990799\n",
      "68 0.0476720333099\n",
      "69 0.0491509437561\n",
      "70 0.0522239208221\n",
      "71 0.0486619472504\n",
      "72 0.0507881641388\n",
      "73 0.0500750541687\n",
      "74 0.0489001274109\n",
      "75 0.048299074173\n",
      "76 0.0492739677429\n",
      "77 0.0477831363678\n",
      "78 0.0452370643616\n",
      "79 0.0466170310974\n",
      "80 0.0501527786255\n",
      "81 0.078446149826\n",
      "82 0.0505971908569\n",
      "83 0.0467400550842\n",
      "84 0.0481169223785\n",
      "85 0.0515511035919\n",
      "86 0.0460391044617\n",
      "87 0.0468878746033\n",
      "88 0.0459051132202\n",
      "89 0.0779418945312\n",
      "90 0.0787980556488\n",
      "91 0.0616970062256\n",
      "92 0.0495669841766\n",
      "93 0.0656099319458\n",
      "94 0.0633509159088\n",
      "95 0.0709829330444\n",
      "96 0.0868439674377\n",
      "97 0.0712540149689\n",
      "98 0.0812590122223\n",
      "99 0.0748860836029\n"
     ]
    }
   ],
   "source": [
    "for i in range(100):\n",
    "    start = time.time()\n",
    "    A2, B2, C2 = ternary_update_with_data(A, B, C, DATA)\n",
    "    assert len(A2.dask) == len(A.dask)\n",
    "    assert len(B2.dask) == len(B.dask)\n",
    "    assert len(C2.dask) == len(C.dask)\n",
    "    A, B, C = A2, B2, C2\n",
    "    print i, time.time() - start"
   ]
  },
  {
   "cell_type": "code",
   "execution_count": 28,
   "metadata": {
    "collapsed": true
   },
   "outputs": [],
   "source": [
    "cg_iterate = ternary_update_with_data"
   ]
  },
  {
   "cell_type": "code",
   "execution_count": 29,
   "metadata": {
    "collapsed": true
   },
   "outputs": [],
   "source": [
    "times = []\n",
    "for i in range(100):\n",
    "    start = time.time()\n",
    "    A2, B2, C2 = cg_iterate(A, B, C, DATA)\n",
    "    assert len(A2.dask) == len(A.dask)\n",
    "    assert len(B2.dask) == len(B.dask)\n",
    "    assert len(C2.dask) == len(C.dask)\n",
    "    A, B, C = A2, B2, C2\n",
    "    times.append(time.time() - start)"
   ]
  },
  {
   "cell_type": "code",
   "execution_count": 30,
   "metadata": {
    "collapsed": true
   },
   "outputs": [],
   "source": [
    "import numpy as np"
   ]
  },
  {
   "cell_type": "code",
   "execution_count": 31,
   "metadata": {},
   "outputs": [
    {
     "data": {
      "text/plain": [
       "(0.048107810020446777, 0.07526087760925293, 98, 0.038157939910888672, 37)"
      ]
     },
     "execution_count": 31,
     "metadata": {},
     "output_type": "execute_result"
    }
   ],
   "source": [
    "np.mean(times), np.max(times), np.argmax(times), np.min(times), np.argmin(times)"
   ]
  },
  {
   "cell_type": "code",
   "execution_count": 32,
   "metadata": {
    "collapsed": true
   },
   "outputs": [],
   "source": [
    "def multi_update_stats(m, mc, iters):\n",
    "    A = da.random.random(m, chunks=mc)\n",
    "    B = da.random.random(m, chunks=mc)\n",
    "    C = da.random.random(m, chunks=mc)\n",
    "    D = B.dot(B)\n",
    "    (D,) = dask.persist(D)\n",
    "    DATA = da.random.random((m, m), chunks=mc)\n",
    "    times = []\n",
    "    for i in range(100):\n",
    "        start = time.time()\n",
    "        A2, B2, C2 = cg_iterate(A, B, C, DATA)\n",
    "        assert len(A2.dask) == len(A.dask)\n",
    "        assert len(B2.dask) == len(B.dask)\n",
    "        assert len(C2.dask) == len(C.dask)\n",
    "        A, B, C = A2, B2, C2\n",
    "        times.append(time.time() - start)\n",
    "    return np.mean(times), np.max(times), np.argmax(times), np.min(times), np.argmin(times), np.sum(times)"
   ]
  },
  {
   "cell_type": "code",
   "execution_count": 33,
   "metadata": {
    "collapsed": true
   },
   "outputs": [],
   "source": [
    "if False:\n",
    "    for i in range(4):\n",
    "        scaling = 10**i\n",
    "        print 20 * scaling, multi_update_stats(20 * scaling, 10 * scaling, 100)"
   ]
  },
  {
   "cell_type": "markdown",
   "metadata": {
    "collapsed": true
   },
   "source": [
    "### results from above scaling experiment\n",
    "m      | mean (s)             | max (s)              | argmax | min (s)              | argmin | total (s)\n",
    "-------|----------------------|----------------------|--------|----------------------|--------|--------------------\n",
    "20     | 0.042010838985443118 | 0.04625391960144043  | 28     | 0.038927078247070312 | 17     | 4.2010838985443115)\n",
    "200    | 0.050868065357208253 | 0.053812980651855469 | 93     | 0.048615932464599609 | 15     | 5.0868065357208252)\n",
    "2000   | 0.084596984386444085 | 0.1150360107421875   | 73     | 0.078493118286132812 | 35     | 8.4596984386444092)\n",
    "20000  | 2.4261571550369263   | 5.257922887802124    | 0      | 2.284060001373291    | 9      | 242.61571550369263)"
   ]
  },
  {
   "cell_type": "code",
   "execution_count": 34,
   "metadata": {
    "collapsed": true
   },
   "outputs": [],
   "source": [
    "def cg_initialize(A, b):\n",
    "    x = 0 * b\n",
    "    r = A.dot(x) - b\n",
    "    p = 1 * r\n",
    "    x, r, p = dask.persist(x, r, p)\n",
    "    return x, r, p"
   ]
  },
  {
   "cell_type": "code",
   "execution_count": 35,
   "metadata": {
    "collapsed": true
   },
   "outputs": [],
   "source": [
    "AA = da.random.random((200, 200), chunks=50)\n",
    "bb = da.random.random(200, chunks=50)\n",
    "AA, bb = dask.persist(AA, bb)"
   ]
  },
  {
   "cell_type": "code",
   "execution_count": 36,
   "metadata": {
    "collapsed": true
   },
   "outputs": [],
   "source": [
    "x, r, p = cg_initialize(AA, bb)\n",
    "assert len(x.dask) == len(bb.dask)\n",
    "assert len(r.dask) == len(bb.dask)\n",
    "assert len(p.dask) == len(bb.dask)"
   ]
  },
  {
   "cell_type": "code",
   "execution_count": 37,
   "metadata": {},
   "outputs": [
    {
     "name": "stdout",
     "output_type": "stream",
     "text": [
      "0.0173809528351\n",
      "False\n"
     ]
    }
   ],
   "source": [
    "start = time.time()\n",
    "(res,) = dask.persist(da.linalg.norm(r))\n",
    "print time.time() - start\n",
    "(cond,) = dask.compute(res < 0.001)\n",
    "print cond"
   ]
  },
  {
   "cell_type": "code",
   "execution_count": 38,
   "metadata": {
    "collapsed": true
   },
   "outputs": [],
   "source": [
    "def cg_initialize(A, b):\n",
    "    x = 0 * b\n",
    "    r = A.dot(x) - b\n",
    "    p = 1 * r\n",
    "    x, r, p = dask.persist(x, r, p)\n",
    "    return x, r, p\n",
    "\n",
    "def cg_iterate(A, state, persist=True):\n",
    "    ox, or_, op = state\n",
    "    Ap = A.dot(op)\n",
    "    alpha = or_.dot(or_) / op.dot(Ap)\n",
    "    x = ox + alpha * op\n",
    "    r = or_ - alpha * Ap\n",
    "    p = r + op * r.dot(r) / or_.dot(or_)\n",
    "    if persist:\n",
    "        x, r, p = dask.persist(x, r, p)\n",
    "    return x, r, p\n",
    "\n",
    "def cg_residual(state, compute=True):\n",
    "    _, r, _ = state\n",
    "    res = da.linalg.norm(r)\n",
    "    if compute:\n",
    "        (res,) = dask.compute(res)\n",
    "    return res\n",
    "    \n",
    "def cg(A, b, tol=1e-5, maxiter=200, verbose=0, graph_iters=1):\n",
    "    graph_iters = max(1, int(graph_iters))\n",
    "    state = cg_initialize(A, b)\n",
    "    start = time.time()\n",
    "    for i in range(1, maxiter + 1):\n",
    "        calculate = bool(i % graph_iters == 0)\n",
    "        state = cg_iterate(A, state, persist=calculate)\n",
    "        res = cg_residual(state, compute=calculate)\n",
    "        if i % 10 == 0:\n",
    "            print i, time.time() - start\n",
    "            start = time.time()\n",
    "        if calculate:\n",
    "            if i % 10 == 0:\n",
    "                print '\\t', i, res\n",
    "            if res < tol:\n",
    "                break\n",
    "    x, _, _ = state\n",
    "    res = cg_residual(state, compute=True)\n",
    "    (x,) = dask.persist(x)\n",
    "    return x, res, i"
   ]
  },
  {
   "cell_type": "code",
   "execution_count": 39,
   "metadata": {
    "collapsed": true
   },
   "outputs": [],
   "source": [
    "AA = da.random.random((200, 200), chunks=50)\n",
    "AA = AA.T.dot(AA)\n",
    "bb = da.random.random(200, chunks=50)\n",
    "AA, bb = dask.persist(AA, bb)"
   ]
  },
  {
   "cell_type": "code",
   "execution_count": 40,
   "metadata": {},
   "outputs": [],
   "source": [
    "if False:\n",
    "    t_start = time.time()\n",
    "    x, res, i = cg(AA, bb, maxiter=500)\n",
    "    print res, i, time.time() - t_start"
   ]
  },
  {
   "cell_type": "code",
   "execution_count": 41,
   "metadata": {},
   "outputs": [],
   "source": [
    "if False:\n",
    "    t_start = time.time()\n",
    "    x, res, i = cg(AA, bb, maxiter=500, graph_iters=5)\n",
    "    print res, i, time.time() - t_start"
   ]
  },
  {
   "cell_type": "code",
   "execution_count": 42,
   "metadata": {},
   "outputs": [],
   "source": [
    "if False:\n",
    "    t_start = time.time()\n",
    "    x, res, i = cg(AA, bb, maxiter=500, graph_iters=10)\n",
    "    print res, i, time.time() - t_start"
   ]
  },
  {
   "cell_type": "code",
   "execution_count": 43,
   "metadata": {},
   "outputs": [],
   "source": [
    "if False:\n",
    "    t_start = time.time()\n",
    "    x, res, i = cg(AA, bb, maxiter=500, graph_iters=20)\n",
    "    print res, i, time.time() - t_start"
   ]
  },
  {
   "cell_type": "code",
   "execution_count": 44,
   "metadata": {
    "scrolled": true
   },
   "outputs": [],
   "source": [
    "if False:\n",
    "    t_start = time.time()\n",
    "    x, res, i = cg(AA, bb, maxiter=500, graph_iters=50)\n",
    "    print res, i, time.time() - t_start"
   ]
  },
  {
   "cell_type": "code",
   "execution_count": 45,
   "metadata": {},
   "outputs": [],
   "source": [
    "if False:\n",
    "    t_start = time.time()\n",
    "    x, res, i = cg(AA, bb, maxiter=500, graph_iters=100)\n",
    "    print res, i, time.time() - t_start"
   ]
  },
  {
   "cell_type": "markdown",
   "metadata": {},
   "source": [
    "### speed per iteration as dependent on graph size\n",
    "graph iters | residual          | iters | total time (s) | iteration time (ms)\n",
    "------------|-------------------|-------|----------------|--------------------\n",
    "1 | 7.10698798222e-06 | 406 | 37.6809880733 | 92.8\n",
    "5 | 3.037102932e-07 | 410 | 33.7013099194 | 82.2\n",
    "10 | 3.037102932e-07 | 410 | 32.1891298294 | 76.1\n",
    "20 | 1.21618439317e-09 | 420 | 31.7939510345 | 75.7\n",
    "50 | 3.22951398091e-12 | 450 | 32.4151659012 | 72.0\n",
    "100         | 7.03413449862e-12 | 500   | 37.3863518238  | 74.8\n"
   ]
  },
  {
   "cell_type": "code",
   "execution_count": 46,
   "metadata": {
    "collapsed": true
   },
   "outputs": [],
   "source": [
    "state = cg_initialize(AA, bb)"
   ]
  },
  {
   "cell_type": "code",
   "execution_count": 47,
   "metadata": {
    "collapsed": true
   },
   "outputs": [],
   "source": [
    "state1 = cg_iterate(AA, state, persist=True)"
   ]
  },
  {
   "cell_type": "code",
   "execution_count": 48,
   "metadata": {
    "collapsed": true
   },
   "outputs": [],
   "source": [
    "x, r, p = cg_iterate(AA, state1, persist=False)"
   ]
  },
  {
   "cell_type": "code",
   "execution_count": 50,
   "metadata": {
    "collapsed": true
   },
   "outputs": [],
   "source": [
    "def cg_initialize_atop(A, b, persist=True, optimize=True):\n",
    "#     x = da.atop(lambda bi: 0 * bi, 'i', b, 'i', dtype=b.dtype, name='x')\n",
    "#     r = da.atop(lambda Ai, xi, bi: Ai.dot(xi) - bi, 'i', A, 'ij', x, 'j', b, 'i', concatenate=True, dtype=b.dtype, name='r')\n",
    "#     p = da.atop(lambda ri: 1 * ri, 'i', r, 'i', dtype=b.dtype, name='p')\n",
    "    def init_x(bi): return 0 * bi\n",
    "    def init_r(Ai, xi, bi): return Ai.dot(xi) - bi\n",
    "    def init_p(ri): return 1 * ri\n",
    "    x = da.atop(init_x, 'i', b, 'i', dtype=b.dtype)\n",
    "    r = da.atop(init_r, 'i', A, 'ij', x, 'j', b, 'i', concatenate=True, dtype=b.dtype)\n",
    "    p = da.atop(init_p, 'i', r, 'i', dtype=b.dtype)\n",
    "    if optimize:\n",
    "        x, r, p = dask.optimize(x, r, p)\n",
    "    if persist:\n",
    "        x, r, p = dask.persist(x, r, p, optimize=(not optimize))\n",
    "    return x, r, p"
   ]
  },
  {
   "cell_type": "code",
   "execution_count": 51,
   "metadata": {
    "collapsed": true
   },
   "outputs": [],
   "source": [
    "def cg_iterate_atop(A, state, persist=True, optimize=True):\n",
    "    def update_x(x, alpha, p): return x + alpha * p\n",
    "    def update_r(r, alpha, Ap): return r - alpha * Ap\n",
    "    def update_p(p, gamma, gamma_next, r): return r + (gamma / gamma_next) * p\n",
    "    x, r, p = state\n",
    "    Ap = A.dot(p)\n",
    "    gamma = r.dot(r)\n",
    "    alpha = gamma / p.dot(Ap)\n",
    "    x_next = da.atop(update_x, 'i', x, 'i', alpha, '', p, 'i', dtype=A.dtype)\n",
    "    r_next = da.atop(update_r, 'i', r, 'i', alpha, '', Ap, 'i', dtype=A.dtype)\n",
    "#     x_next = da.atop(lambda xi, alpha, pi: xi + alpha * pi, 'i', x, 'i', alpha, '', p, 'i', dtype=A.dtype, name='xnext')\n",
    "#     r_next = da.atop(lambda xi, alpha, Api: ri - alpha * Api, 'i', r, 'i', alpha, '', Ap, 'i', dtype=A.dtype, name='rnext')\n",
    "    gamma_next = r_next.dot(r_next)\n",
    "    p_next = da.atop(update_p, 'i', r_next, 'i', gamma, '', gamma_next, '', p, 'i', dtype=A.dtype)\n",
    "#     p_next = da.atop(lambda ri, beta, pi: ri + beta * pi, 'i', r_next, 'i', gamma_next / gamma, '', p, 'i', dtype=A.dtype, name='pnext')\n",
    "    if optimize:\n",
    "        x_next, r_next, p_next = dask.optimize(x_next, r_next, p_next)\n",
    "    if persist:\n",
    "        x_next, r_next, p_next = dask.persist(x_next, r_next, p_next, optimize=(not optimize))\n",
    "    return x_next, r_next, p_next"
   ]
  },
  {
   "cell_type": "code",
   "execution_count": 52,
   "metadata": {
    "collapsed": true
   },
   "outputs": [],
   "source": [
    "state = cg_initialize_atop(AA, bb, persist=True)\n",
    "x0, r0, p0 = state"
   ]
  },
  {
   "cell_type": "code",
   "execution_count": 53,
   "metadata": {},
   "outputs": [
    {
     "name": "stdout",
     "output_type": "stream",
     "text": [
      "0.194261789322\n"
     ]
    }
   ],
   "source": [
    "start = time.time()\n",
    "state = x0, r0, p0\n",
    "for i in range(10):\n",
    "    state = cg_iterate_atop(AA, state, persist=False, optimize=(i == 9))\n",
    "x_out, r_out, p_out = state\n",
    "print time.time() - start"
   ]
  },
  {
   "cell_type": "code",
   "execution_count": 54,
   "metadata": {},
   "outputs": [
    {
     "name": "stdout",
     "output_type": "stream",
     "text": [
      "0.43355679512\n"
     ]
    }
   ],
   "source": [
    "start = time.time()\n",
    "state = x1, r1, p1 = dask.persist(*state)\n",
    "print time.time() - start"
   ]
  },
  {
   "cell_type": "code",
   "execution_count": 55,
   "metadata": {},
   "outputs": [
    {
     "data": {
      "text/plain": [
       "(4, 707)"
      ]
     },
     "execution_count": 55,
     "metadata": {},
     "output_type": "execute_result"
    }
   ],
   "source": [
    "len(x0.dask), len(x_out.dask)"
   ]
  },
  {
   "cell_type": "code",
   "execution_count": 59,
   "metadata": {
    "collapsed": true
   },
   "outputs": [],
   "source": [
    "import operator"
   ]
  },
  {
   "cell_type": "code",
   "execution_count": 60,
   "metadata": {
    "collapsed": true
   },
   "outputs": [],
   "source": [
    "def cg_init_dsk(A, b, state0):\n",
    "    x0, r0, p0 = map(lambda nm: nm + '-' + state0, ('x', 'r', 'p'))\n",
    "    def init_x(bi): return 0 * bi\n",
    "#     def init_r(Ai, xi, bi): return Ai.dot(xi) - bi\n",
    "    def init_p(ri): return 1 * ri\n",
    "    dsk = dict()\n",
    "    vblocks, hblocks = A.numblocks\n",
    "    for i in range(vblocks):\n",
    "        dsk[(x0, i)] = (init_x, (b.name, i))\n",
    "        dsk[(r0, i)] = (operator.sub, \n",
    "                (da.core.dotmany, [(A.name, i, j) for j in range(hblocks)], [(x0, j) for j in range(hblocks)]),\n",
    "                (b.name, i))\n",
    "        dsk[(p0, i)] = (init_p, (r0, i))\n",
    "#     if optimize:\n",
    "#         x, r, p = dask.optimize(x, r, p)\n",
    "#     if persist:\n",
    "#         x, r, p = dask.persist(x, r, p, optimize=(not optimize))\n",
    "    return dsk"
   ]
  },
  {
   "cell_type": "code",
   "execution_count": 61,
   "metadata": {},
   "outputs": [
    {
     "name": "stdout",
     "output_type": "stream",
     "text": [
      "0.0135219097137\n"
     ]
    }
   ],
   "source": [
    "start = time.time()\n",
    "key1 = 'iter1'\n",
    "dsk = dask.sharedict.merge(AA.dask, bb.dask, cg_init_dsk(AA, bb, key1))\n",
    "x = da.Array(dsk, 'x-' + key1, shape=bb.shape, chunks=bb.chunks, dtype=bb.dtype)\n",
    "r = da.Array(dsk, 'r-' + key1, shape=bb.shape, chunks=bb.chunks, dtype=bb.dtype)\n",
    "p = da.Array(dsk, 'p-' + key1, shape=bb.shape, chunks=bb.chunks, dtype=bb.dtype)\n",
    "x, r, p = dask.persist(x, r, p)\n",
    "print time.time() - start"
   ]
  },
  {
   "cell_type": "code",
   "execution_count": 62,
   "metadata": {
    "collapsed": true
   },
   "outputs": [],
   "source": [
    "def cg_iterate_dsk(A, state0, state1):\n",
    "    Ap, pAp = 'Ap-' + state0, 'pAp-' + state0\n",
    "    x0, r0, p0, gamma0 = map(lambda nm: nm + '-' + state0, ('x', 'r', 'p', 'gamma'))\n",
    "    x1, r1, p1, gamma1 = map(lambda nm: nm + '-' + state1, ('x', 'r', 'p', 'gamma'))\n",
    "    def update_x(x, gamma, pAp, p): return x + (gamma / pAp) * p\n",
    "    def update_r(r, gamma, pAp, Ap): return r - (gamma / pAp) * Ap\n",
    "    def update_p(p, gamma, gamma_next, r): return r + (gamma_next / gamma) * p\n",
    "    dsk = dict()\n",
    "    vblocks, hblocks = A.numblocks\n",
    "    for i in range(vblocks):\n",
    "        dsk[(Ap, i)] = (da.core.dotmany, [(A.name, i, j) for j in range(hblocks)], [(p0, j) for j in range(hblocks)])\n",
    "    dsk[gamma0] = (da.core.dotmany, [(r0, i) for i in range(vblocks)], [(r0, i) for i in range(vblocks)])\n",
    "    dsk[pAp] = (da.core.dotmany, [(p0, i) for i in range(vblocks)], [(Ap, i) for i in range(vblocks)])\n",
    "    for i in range(vblocks):\n",
    "        dsk[(x1, i)] = (update_x, (x0, i), gamma0, pAp, (p0, i))\n",
    "        dsk[(r1, i)] = (update_r, (r0, i), gamma0, pAp, (Ap, i))\n",
    "        dsk[(p1, i)] = (update_p, (p0, i), gamma0, gamma1, (r1, i))\n",
    "    dsk[gamma1] = (da.core.dotmany, [(r1, i) for i in range(vblocks)], [(r1, i) for i in range(vblocks)])\n",
    "    return dsk"
   ]
  },
  {
   "cell_type": "code",
   "execution_count": 63,
   "metadata": {},
   "outputs": [
    {
     "name": "stdout",
     "output_type": "stream",
     "text": [
      "0.000180959701538\n"
     ]
    }
   ],
   "source": [
    "start = time.time()\n",
    "dsk = cg_iterate_dsk(AA, 'iter1', 'iter2')\n",
    "print time.time() - start"
   ]
  },
  {
   "cell_type": "code",
   "execution_count": 64,
   "metadata": {},
   "outputs": [
    {
     "name": "stdout",
     "output_type": "stream",
     "text": [
      "0.0266568660736\n"
     ]
    }
   ],
   "source": [
    "start = time.time()\n",
    "key0, key1 = 'iter1', 'iter2'\n",
    "# dsk = cg_iterate_dsk(AA, key0, key1)\n",
    "dsk = dask.sharedict.merge(AA.dask, x.dask, r.dask, p.dask, cg_iterate_dsk(AA, key0, key1))\n",
    "x = da.Array(dsk, 'x-' + key1, shape=bb.shape, chunks=bb.chunks, dtype=bb.dtype)\n",
    "r = da.Array(dsk, 'r-' + key1, shape=bb.shape, chunks=bb.chunks, dtype=bb.dtype)\n",
    "p = da.Array(dsk, 'p-' + key1, shape=bb.shape, chunks=bb.chunks, dtype=bb.dtype)\n",
    "(x, r, p) = dask.optimize(x, r, p)\n",
    "(resnrm,) = dask.compute(da.linalg.norm(r))\n",
    "print time.time() - start"
   ]
  },
  {
   "cell_type": "code",
   "execution_count": 65,
   "metadata": {
    "collapsed": true
   },
   "outputs": [],
   "source": [
    "def cg_calcs(dsk, key, b):\n",
    "    x = da.Array(dsk, 'x-' + key, shape=b.shape, chunks=b.chunks, dtype=b.dtype)\n",
    "    r = da.Array(dsk, 'r-' + key, shape=b.shape, chunks=b.chunks, dtype=b.dtype)\n",
    "    p = da.Array(dsk, 'p-' + key, shape=b.shape, chunks=b.chunks, dtype=b.dtype)\n",
    "    (x, r, p) = dask.persist(x, r, p, optimize_graph=False, traverse=False)\n",
    "    (res,) = dask.compute(da.linalg.norm(r))\n",
    "    return x, r, p, res\n",
    "\n",
    "def cg_dsk(A, b, tol=1e-5, maxiter=500, verbose=0, print_iters=0, graph_iters=1, time_iters=0):\n",
    "    graph_iters = max(1, int(graph_iters))\n",
    "    time_iters = max(0, int(time_iters))\n",
    "    if int(print_iters) < 1 and verbose > 0:\n",
    "        print_iters = max(0, max(int(print_iters), int(10**(3 - verbose))))\n",
    "    key_init = 'cg-iter0'\n",
    "    dsk = dask.sharedict.merge(AA.dask, bb.dask, cg_init_dsk(AA, bb, key_init))\n",
    "    x, r, p, res = cg_calcs(dsk, key_init, b)\n",
    "    if time_iters > 0:\n",
    "        start = time.time()\n",
    "    dsk = dict()\n",
    "    for i in range(1, maxiter + 1):\n",
    "        key0 = 'cg-iter{}'.format(i - 1)\n",
    "        key1 = 'cg-iter{}'.format(i)\n",
    "        calculate = bool(i % graph_iters == 0)\n",
    "        dsk.update(cg_iterate_dsk(A, key0, key1))\n",
    "        if calculate:\n",
    "            dsk = dask.sharedict.merge(A.dask, x.dask, r.dask, p.dask, dsk)\n",
    "            x, r, p, res = cg_calcs(dsk, key1, b)\n",
    "            if print_iters > 0 and i % print_iters == 0:\n",
    "                print '\\t\\t\\t{}: residual = {:.1e}'.format(i, res)\n",
    "            if res < tol:\n",
    "                break\n",
    "            dsk = dict()\n",
    "        if time_iters > 0 and i % time_iters == 0:\n",
    "            print '{}: {:.1e} seconds'.format(i, time.time() - start)\n",
    "            start = time.time()\n",
    "    if i == maxiter:\n",
    "        dsk = dask.sharedict.merge(A.dask, x.dask, r.dask, p.dask, dsk)\n",
    "        x, _, _, res = cg_calcs(dsk, key1, b)\n",
    "    return x, res, i"
   ]
  },
  {
   "cell_type": "code",
   "execution_count": 66,
   "metadata": {},
   "outputs": [],
   "source": [
    "if False:\n",
    "    t_start = time.time()\n",
    "    x, res, i = cg_dsk(AA, bb, maxiter=500, time_iters=10, print_iters=10)\n",
    "    t_cg = time.time() - t_start\n",
    "    fmt = '\\n\\niters: {}\\nresidual: {:.1e}\\ntime: {:.2e} seconds\\nper iter: {:.1f} ms'\n",
    "    print fmt.format(i, res, t_cg, 1000 * t_cg / i)"
   ]
  },
  {
   "cell_type": "code",
   "execution_count": 67,
   "metadata": {},
   "outputs": [],
   "source": [
    "if False:\n",
    "    t_start = time.time()\n",
    "    x, res, i = cg_dsk(AA, bb, maxiter=500, graph_iters=5)\n",
    "    t_cg = time.time() - t_start\n",
    "    fmt = 'iters: {}\\nresidual: {:.1e}\\ntime: {:.2e} seconds\\nper iter: {:.1f} ms'\n",
    "    print fmt.format(i, res, t_cg, 1000 * t_cg / i)"
   ]
  },
  {
   "cell_type": "code",
   "execution_count": 68,
   "metadata": {},
   "outputs": [],
   "source": [
    "if False:\n",
    "    t_start = time.time()\n",
    "    x, res, i = cg_dsk(AA, bb, maxiter=500, graph_iters=20)\n",
    "    print res, i, time.time() - t_start"
   ]
  },
  {
   "cell_type": "code",
   "execution_count": 69,
   "metadata": {},
   "outputs": [],
   "source": [
    "if False:\n",
    "    t_start = time.time()\n",
    "    x, res, i = cg_dsk(AA, bb, maxiter=500, graph_iters=10)\n",
    "    print res, i, time.time() - t_start"
   ]
  },
  {
   "cell_type": "code",
   "execution_count": 70,
   "metadata": {},
   "outputs": [],
   "source": [
    "if False:\n",
    "    t_start = time.time()\n",
    "    x, res, i = cg_dsk(AA, bb, maxiter=500, graph_iters=30)\n",
    "    print res, i, time.time() - t_start"
   ]
  },
  {
   "cell_type": "code",
   "execution_count": 71,
   "metadata": {},
   "outputs": [],
   "source": [
    "if False:\n",
    "    t_start = time.time()\n",
    "    x, res, i = cg_dsk(AA, bb, maxiter=500, graph_iters=50)\n",
    "    print res, i, time.time() - t_start"
   ]
  },
  {
   "cell_type": "code",
   "execution_count": 72,
   "metadata": {},
   "outputs": [],
   "source": [
    "if False:\n",
    "    print 'graph iters | iters | residual | time (s) | per iter (ms)'\n",
    "    print '------------|-------|----------|----------|--------------'\n",
    "    for graph_iters in (1, 5, 10, 20, 50, 100):\n",
    "        t_start = time.time()\n",
    "        x, res, i = cg_dsk(AA, bb, maxiter=500, graph_iters=graph_iters)\n",
    "        t_cg = time.time() - t_start\n",
    "        print '{}|{}|{:.1e}|{:.2e}|{:.1f}'.format(graph_iters, i, res, t_cg, 1000 * t_cg / i)\n"
   ]
  },
  {
   "cell_type": "markdown",
   "metadata": {},
   "source": [
    "graph iters | iters | residual | time (s) | per iter (ms)\n",
    "------------|-------|----------|----------|--------------\n",
    "1|406|5.7e-06|9.14e+00|22.5\n",
    "5|410|5.1e-07|5.68e+00|13.9\n",
    "10|410|5.1e-07|5.22e+00|12.7\n",
    "20|420|2.9e-09|5.14e+00|12.2\n",
    "50|450|5.2e-12|5.44e+00|12.1\n",
    "100|500|3.3e-12|7.34e+00|14.7"
   ]
  },
  {
   "cell_type": "code",
   "execution_count": null,
   "metadata": {
    "collapsed": true
   },
   "outputs": [],
   "source": []
  }
 ],
 "metadata": {
  "kernelspec": {
   "display_name": "Python 2",
   "language": "python",
   "name": "python2"
  },
  "language_info": {
   "codemirror_mode": {
    "name": "ipython",
    "version": 2
   },
   "file_extension": ".py",
   "mimetype": "text/x-python",
   "name": "python",
   "nbconvert_exporter": "python",
   "pygments_lexer": "ipython2",
   "version": "2.7.13"
  }
 },
 "nbformat": 4,
 "nbformat_minor": 2
}
