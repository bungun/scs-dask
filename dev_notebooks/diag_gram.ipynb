{
 "cells": [
  {
   "cell_type": "code",
   "execution_count": 1,
   "metadata": {
    "collapsed": true
   },
   "outputs": [],
   "source": [
    "import multipledispatch\n",
    "import functools\n",
    "import numpy as np\n",
    "import operator\n",
    "import dask\n",
    "import dask\n",
    "import dask.array as da"
   ]
  },
  {
   "cell_type": "code",
   "execution_count": 2,
   "metadata": {
    "collapsed": true
   },
   "outputs": [],
   "source": [
    "namespace_linop_atoms = dict()\n",
    "dispatch = functools.partial(multipledispatch.dispatch, namespace=namespace_linop_atoms)"
   ]
  },
  {
   "cell_type": "markdown",
   "metadata": {},
   "source": [
    "### numpy diag_gram"
   ]
  },
  {
   "cell_type": "code",
   "execution_count": 20,
   "metadata": {
    "collapsed": true
   },
   "outputs": [],
   "source": [
    "@dispatch(np.ndarray)\n",
    "def diag_gram(array, transpose=False, diag_index=0):\n",
    "    r\"\"\" Given matrix :math:`A`, calculate diagonal of :math:`A^TA`.\n",
    "\n",
    "    Args:\n",
    "        array (:obj:`np.ndarray`): Dense matrix\n",
    "        transpose (:obj:`bool`, optional): If ``True``, calculate\n",
    "            diagonal of :math:`AA^T`\n",
    "        diag_index (:obj:`int`, optional): Index of subdiagonal to\n",
    "            calculate.\n",
    "\n",
    "    Returns:\n",
    "        :obj:`np.ndarray`: Dense vector representation of requested\n",
    "        (sub)diagonal of :math`A^TA` (or :math:`AA^T`).\n",
    "\n",
    "    Raises:\n",
    "        AssertionError: If diag_index exceeds outer dimension of gram\n",
    "        matrix :math:`A^TA` (or :math:`AA^T` when ``transpose = True``).\n",
    "    \"\"\"\n",
    "    m, n = array.shape\n",
    "    dim = m if transpose else n\n",
    "    diag_index = abs(diag_index)\n",
    "    assert diag_index < dim, 'subdiagonal index out of range'\n",
    "    diag = np.zeros(dim - diag_index, dtype=array.dtype)\n",
    "    if transpose:\n",
    "        for i in range(dim - diag_index):\n",
    "            diag[i] = np.dot(array[i + diag_index, :], array[i, :])\n",
    "    else:\n",
    "        for i in range(dim - diag_index):\n",
    "            diag[i] = np.dot(array[:, i + diag_index], array[:, i])\n",
    "    \n",
    "    return diag"
   ]
  },
  {
   "cell_type": "code",
   "execution_count": 21,
   "metadata": {
    "collapsed": true
   },
   "outputs": [],
   "source": [
    "A = np.random.random((10, 5))"
   ]
  },
  {
   "cell_type": "code",
   "execution_count": 22,
   "metadata": {
    "collapsed": true
   },
   "outputs": [],
   "source": [
    "dAA = diag_gram(A)\n",
    "diff = dAA - np.diag(np.dot(A.T, A))\n",
    "assert np.linalg.norm(diff) < 1e-15 * (np.log(dAA.size) + np.linalg.norm(dAA))"
   ]
  },
  {
   "cell_type": "code",
   "execution_count": 23,
   "metadata": {
    "collapsed": true
   },
   "outputs": [],
   "source": [
    "dAAT = diag_gram(A, transpose=True)\n",
    "diff = dAAT - np.diag(np.dot(A, A.T))\n",
    "assert np.linalg.norm(diff) < 1e-15 * (np.log(dAAT.size) + np.linalg.norm(dAAT))"
   ]
  },
  {
   "cell_type": "markdown",
   "metadata": {},
   "source": [
    "### dask diag_gram"
   ]
  },
  {
   "cell_type": "code",
   "execution_count": 25,
   "metadata": {
    "collapsed": true
   },
   "outputs": [],
   "source": [
    "@dispatch(da.Array)\n",
    "def diag_gram(array, transpose=False, regularization=0, diag_index=0):\n",
    "    \"\"\" Blocked version of :func:`diag_gram`\n",
    "\n",
    "    Args:\n",
    "        array (:obj:`da.Array`): Block-specified matrix\n",
    "        transpose (:obj:`bool`, optional): If ``True``, calculate\n",
    "            diagonal of :math:`AA^T`\n",
    "        diag_index (:obj:`int`, optional): Index of subdiagonal to\n",
    "            calculate.\n",
    "\n",
    "    Returns:\n",
    "        :obj:`da.Array`: Graph-backed dask array representation of\n",
    "        requested (sub)diagonal of :math`A^TA` (or :math:`AA^T`);\n",
    "        requires :func:`dask.compute` or :func:`dask.persist` calls\n",
    "        to convert to be backed by literals.\n",
    "\n",
    "    Raises:\n",
    "        AssertionError: If diag_index exceeds outer dimension of gram\n",
    "        matrix :math:`A^TA` (or :math:`AA^T` when ``transpose = True``).\n",
    "        NotImplementedError: If diag_index > 0\n",
    "    \"\"\"\n",
    "    # calculate gram chunks from array\n",
    "    chunks = array.chunks\n",
    "    nblocks = array.numblocks\n",
    "    chunks_gram = (chunks[1 - int(transpose)],)\n",
    "\n",
    "    # run over gram chunks to figure out diag chunks\n",
    "    diag_index = abs(int(diag_index))\n",
    "    m, n = array.shape\n",
    "    dim = m if transpose else n\n",
    "    assert diag_index < dim\n",
    "    if diag_index == 0:\n",
    "        chunks_calc = chunks_gram\n",
    "    else:\n",
    "        raise NotImplementedError\n",
    "        # TODO: implement for subdiagonals\n",
    "\n",
    "    # construct graph to populate (sub)diagonal gram chunks\n",
    "    _diag_ij = 'diag_ij-' + array.name\n",
    "    _diag_i = 'diag_i-' + array.name\n",
    "    _diag_i_reg = 'diag_i_reg-' + array.name\n",
    "    dsk_diag_ij = dict()\n",
    "\n",
    "    if transpose:\n",
    "        # row-major algorithm\n",
    "        # .. for row i\n",
    "        # .. calculate diag for each block ij in column block i\n",
    "        # .. sum diagonals over all blocks ij in column block i\n",
    "        # .. assign to subvector i\n",
    "        def dg(block, offset=0):\n",
    "            return diag_gram(block, transpose=True, diag_index=0)\n",
    "        for i in range(nblocks[0]):\n",
    "            for j in range(nblocks[1]):\n",
    "                dsk_diag_ij[(_diag_ij, i, j)] = (dg, (array.name, i, j))\n",
    "        reduce_diag_j = functools.partial(da.core.reduce, operator.add)\n",
    "        dsk_diag_i = da.core.top(\n",
    "                reduce_diag_j, _diag_i, 'i', _diag_ij, 'ij',\n",
    "                numblocks={_diag_ij: array.numblocks})\n",
    "    else:\n",
    "        # column-major algorithm\n",
    "        # .. for column block j\n",
    "        # .. calculate diag for each block ij in column block j\n",
    "        # .. sum diagonals over all blocks ij in column block j\n",
    "        # .. assign to subvector j\n",
    "        def dg(block, offset=0):\n",
    "            return diag_gram(block, transpose=False, diag_index=offset)\n",
    "        for j in range(nblocks[1]):\n",
    "            for i in range(nblocks[0]):\n",
    "                dsk_diag_ij[(_diag_ij, i, j)] = (dg, (array.name, i, j))\n",
    "        reduce_diag_j = functools.partial(da.core.reduce, operator.add)\n",
    "        dsk_diag_i = da.core.top(reduce_diag_j, _diag_i, 'i', _diag_ij, 'ji',\n",
    "                                 numblocks={_diag_ij: array.numblocks})\n",
    "\n",
    "    if regularization == 0:\n",
    "        dsk_diag_i_reg = {\n",
    "                (_diag_i_reg, key[-1]): dsk_diag_i[key]\n",
    "                for key in dsk_diag_i}\n",
    "    else:\n",
    "        def add_regularization(diag): return diag + float(regularization)\n",
    "        dsk_diag_i_reg = da.core.top(\n",
    "                add_regularization, _diag_i_reg, 'i', _diag_i, 'i',\n",
    "                numblocks={_diag_i: (len(chunks_calc[0]),)})\n",
    "\n",
    "    # retrieve array from graph\n",
    "    dsk_diag = dask.sharedict.merge(array.dask)\n",
    "    dsk_diag.update_with_key(dsk_diag_ij, _diag_ij)\n",
    "    dsk_diag.update_with_key(dsk_diag_i, _diag_i)\n",
    "    dsk_diag.update_with_key(dsk_diag_i_reg, _diag_i_reg)\n",
    "    diagg = da.Array(\n",
    "            dsk_diag, _diag_i_reg, shape=(dim,), chunks=chunks_calc,\n",
    "            dtype=array.dtype)\n",
    "\n",
    "    # rechunk\n",
    "    diagg.rechunk(chunks_gram[0])\n",
    "    return diagg"
   ]
  },
  {
   "cell_type": "code",
   "execution_count": 26,
   "metadata": {
    "collapsed": true
   },
   "outputs": [],
   "source": [
    "A = da.random.random((1000, 500), chunks=(100, 50))"
   ]
  },
  {
   "cell_type": "code",
   "execution_count": 27,
   "metadata": {},
   "outputs": [],
   "source": [
    "dATA = diag_gram(A)\n",
    "diff = dATA - da.diag(da.dot(A.T, A))\n",
    "diff, dATA = dask.compute(diff, dATA)\n",
    "logdim = np.log(diff.size)\n",
    "assert np.linalg.norm(diff) < 1e-15 * (logdim + np.linalg.norm(dATA))"
   ]
  },
  {
   "cell_type": "code",
   "execution_count": 28,
   "metadata": {
    "collapsed": true
   },
   "outputs": [],
   "source": [
    "dAAT = diag_gram(A, transpose=True)\n",
    "diff = dAAT - da.diag(da.dot(A, A.T))\n",
    "diff, dAAT = dask.compute(diff, dAAT)\n",
    "logdim = np.log(diff.size)\n",
    "assert np.linalg.norm(diff) < 1e-15 * (logdim + np.linalg.norm(dAAT))"
   ]
  },
  {
   "cell_type": "code",
   "execution_count": 29,
   "metadata": {
    "collapsed": true
   },
   "outputs": [],
   "source": [
    "dATA = diag_gram(A, regularization=1)\n",
    "diff = dATA - (1 + da.diag(da.dot(A.T, A)))\n",
    "diff, dATA = dask.compute(diff, dATA)\n",
    "logdim = np.log(diff.size)\n",
    "assert np.linalg.norm(diff) < 1e-15 * (logdim + np.linalg.norm(dATA))"
   ]
  },
  {
   "cell_type": "code",
   "execution_count": 30,
   "metadata": {},
   "outputs": [
    {
     "name": "stdout",
     "output_type": "stream",
     "text": [
      "31.6227766017 5.3074380581e-12\n"
     ]
    },
    {
     "ename": "AssertionError",
     "evalue": "",
     "output_type": "error",
     "traceback": [
      "\u001b[0;31m---------------------------------------------------------------------------\u001b[0m",
      "\u001b[0;31mAssertionError\u001b[0m                            Traceback (most recent call last)",
      "\u001b[0;32m<ipython-input-30-7075dab1b370>\u001b[0m in \u001b[0;36m<module>\u001b[0;34m()\u001b[0m\n\u001b[1;32m      4\u001b[0m \u001b[0mlogdim\u001b[0m \u001b[0;34m=\u001b[0m \u001b[0mnp\u001b[0m\u001b[0;34m.\u001b[0m\u001b[0mlog\u001b[0m\u001b[0;34m(\u001b[0m\u001b[0mdiff\u001b[0m\u001b[0;34m.\u001b[0m\u001b[0msize\u001b[0m\u001b[0;34m)\u001b[0m\u001b[0;34m\u001b[0m\u001b[0m\n\u001b[1;32m      5\u001b[0m \u001b[0;32mprint\u001b[0m \u001b[0mnp\u001b[0m\u001b[0;34m.\u001b[0m\u001b[0mlinalg\u001b[0m\u001b[0;34m.\u001b[0m\u001b[0mnorm\u001b[0m\u001b[0;34m(\u001b[0m\u001b[0mdiff\u001b[0m\u001b[0;34m)\u001b[0m\u001b[0;34m,\u001b[0m \u001b[0;36m1e-15\u001b[0m \u001b[0;34m*\u001b[0m \u001b[0;34m(\u001b[0m\u001b[0mlogdim\u001b[0m \u001b[0;34m+\u001b[0m \u001b[0mnp\u001b[0m\u001b[0;34m.\u001b[0m\u001b[0mlinalg\u001b[0m\u001b[0;34m.\u001b[0m\u001b[0mnorm\u001b[0m\u001b[0;34m(\u001b[0m\u001b[0mdAAT\u001b[0m\u001b[0;34m)\u001b[0m\u001b[0;34m)\u001b[0m\u001b[0;34m\u001b[0m\u001b[0m\n\u001b[0;32m----> 6\u001b[0;31m \u001b[0;32massert\u001b[0m \u001b[0mnp\u001b[0m\u001b[0;34m.\u001b[0m\u001b[0mlinalg\u001b[0m\u001b[0;34m.\u001b[0m\u001b[0mnorm\u001b[0m\u001b[0;34m(\u001b[0m\u001b[0mdiff\u001b[0m\u001b[0;34m)\u001b[0m \u001b[0;34m<\u001b[0m \u001b[0;36m1e-15\u001b[0m \u001b[0;34m*\u001b[0m \u001b[0;34m(\u001b[0m\u001b[0mlogdim\u001b[0m \u001b[0;34m+\u001b[0m \u001b[0mnp\u001b[0m\u001b[0;34m.\u001b[0m\u001b[0mlinalg\u001b[0m\u001b[0;34m.\u001b[0m\u001b[0mnorm\u001b[0m\u001b[0;34m(\u001b[0m\u001b[0mdAAT\u001b[0m\u001b[0;34m)\u001b[0m\u001b[0;34m)\u001b[0m\u001b[0;34m\u001b[0m\u001b[0m\n\u001b[0m",
      "\u001b[0;31mAssertionError\u001b[0m: "
     ]
    }
   ],
   "source": [
    "dAAT = diag_gram(A, transpose=True, regularization=1)\n",
    "diff = dAAT - da.diag(da.dot(A, A.T))\n",
    "diff, dAAT = dask.compute(diff, dAAT)\n",
    "logdim = np.log(diff.size)\n",
    "print np.linalg.norm(diff), 1e-15 * (logdim + np.linalg.norm(dAAT))\n",
    "assert np.linalg.norm(diff) < 1e-15 * (logdim + np.linalg.norm(dAAT))"
   ]
  },
  {
   "cell_type": "markdown",
   "metadata": {},
   "source": [
    "### graph_dot"
   ]
  },
  {
   "cell_type": "code",
   "execution_count": null,
   "metadata": {},
   "outputs": [],
   "source": [
    "@dispatch(da.Array, str, str)\n",
    "def graph_dot(array, input_key, output_key, transpose=False, **options):\n",
    "    r\"\"\" Build dask graph storing as output a linear operator applied to input.\n",
    "\n",
    "    Args:\n",
    "        array (:obj:`da.Array`): Matrix\n",
    "        input_key (:obj:`str`): Key, in some dask graph, of an input\n",
    "            vector assumed to be compatibly sized and chunked with\n",
    "            the array.\n",
    "        output_key (:obj:`str`): Key of an output vector.\n",
    "        transpose (:obj:`bool`, optional): If ``True``, form output as\n",
    "            :math:`w = A^Tz`; by default form :math:`y = Ax`.\n",
    "\n",
    "    Returns:\n",
    "        :obj:`dask.sharedict.Sharedict`: dask graph of matrix-vector\n",
    "        product assigned to output vector.\n",
    "    \"\"\"\n",
    "    if transpose:\n",
    "        idx_out, idx_arr, idx_in = 'j', 'ji', 'i'\n",
    "        transform = da.transpose\n",
    "    else:\n",
    "        idx_out, idx_arr, idx_in = 'i', 'ij', 'j'\n",
    "        transform = None\n",
    "    blks_in = (array.numblocks[1 - int(transpose)],)\n",
    "\n",
    "    dsk_out = da.core.top(\n",
    "            da.core.dotmany,\n",
    "            output_key, idx_out,\n",
    "            array.name, idx_arr,\n",
    "            input_key, idx_in,\n",
    "            leftfunction=transform,\n",
    "            numblocks={array.name: array.numblocks, input_key: blks_in})\n",
    "    return dask.sharedict.merge(array.dask, (dsk_out, output_key))\n",
    "\n",
    "@dispatch(linop.DLODense, str, str)\n",
    "def graph_dot(dense_op, input_key, output_key, transpose=False, **options):\n",
    "    \"\"\" Implementation of :func:`graph_dot` for a dense linear operator.\n",
    "    \"\"\"\n",
    "    return graph_dot(dense_op.data, input_key, output_key, transpose=transpose)\n",
    "\n",
    "@dispatch(linop.DLODiagonal, str, str)\n",
    "def graph_dot(diag_op, input_key, output_key, **options):\n",
    "    \"\"\" Implementation of :func:`graph_dot` for a diagonal linear operator.\n",
    "    \"\"\"\n",
    "    vec = diag_op.data\n",
    "    dsk_out = da.core.top(\n",
    "            operator.mul, output_key, 'i', vec.name, 'i', input_key, 'i',\n",
    "            numblocks={vec.name: vec.numblocks, input_key: vec.numblocks})\n",
    "    return dask.sharedict.merge(vec.dask, (dsk_out, output_key))\n",
    "\n",
    "@dispatch(linop.DLOGram, str, str)\n",
    "def graph_dot(gram_op, input_key, output_key, **options):\n",
    "    \"\"\" Implementation of :func:`graph_dot` for a dense linear operator.\n",
    "    \"\"\"\n",
    "    mid_key = gram_op.name + '-gramA-' + input_key\n",
    "    dsk_Ax = graph_dot(\n",
    "            gram_op.data, input_key, mid_key, transpose=gram_op.transpose)\n",
    "    dsk_AAx = graph_dot(\n",
    "            gram_op.data, mid_key, output_key, transpose=(not gram_op.transpose))\n",
    "    return dask.sharedict.merge(dsk_Ax, dsk_AAx)\n",
    "\n",
    "@dispatch(linop.DLORegularizedGram, str, str)\n",
    "def graph_dot(gram_op, input_key, output_key, **options):\n",
    "    \"\"\" Implementation of :func:`graph_dot` for a dense linear operator.\n",
    "    \"\"\"\n",
    "    mid_key = gram_op.name + '-gramAA-' + input_key\n",
    "    dsk_AAx = graph_dot(gram_op.data, input_key, mid_key)\n",
    "    def add_regularization(AAx): return AAx + gram_op.regularization\n",
    "    dsk_IAAx = da.core.top(\n",
    "            add_regularization, output_key, 'i', mid_key, 'i',\n",
    "            numblocks={mid_key: (gram_op.numblocks[0],)})\n",
    "    return dask.sharedict.merge(dsk_AAx, (dsk_IAAx, output_key))"
   ]
  },
  {
   "cell_type": "code",
   "execution_count": null,
   "metadata": {
    "collapsed": true
   },
   "outputs": [],
   "source": []
  },
  {
   "cell_type": "code",
   "execution_count": null,
   "metadata": {
    "collapsed": true
   },
   "outputs": [],
   "source": []
  }
 ],
 "metadata": {
  "kernelspec": {
   "display_name": "Python 2",
   "language": "python",
   "name": "python2"
  },
  "language_info": {
   "codemirror_mode": {
    "name": "ipython",
    "version": 2
   },
   "file_extension": ".py",
   "mimetype": "text/x-python",
   "name": "python",
   "nbconvert_exporter": "python",
   "pygments_lexer": "ipython2",
   "version": "2.7.13"
  }
 },
 "nbformat": 4,
 "nbformat_minor": 2
}
