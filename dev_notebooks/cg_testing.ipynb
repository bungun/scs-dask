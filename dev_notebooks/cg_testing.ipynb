{
 "cells": [
  {
   "cell_type": "code",
   "execution_count": 24,
   "metadata": {},
   "outputs": [],
   "source": [
    "import numpy as np\n",
    "import dask\n",
    "import dask.array as da\n",
    "%load_ext line_profiler"
   ]
  },
  {
   "cell_type": "code",
   "execution_count": 2,
   "metadata": {},
   "outputs": [
    {
     "data": {
      "text/plain": [
       "<function numpy.core.fromnumeric.transpose>"
      ]
     },
     "execution_count": 2,
     "metadata": {},
     "output_type": "execute_result"
    }
   ],
   "source": [
    "da.transpose"
   ]
  },
  {
   "cell_type": "code",
   "execution_count": 3,
   "metadata": {
    "collapsed": true
   },
   "outputs": [],
   "source": [
    "def dcg(A, b, tol=1e-8, maxiter=500, x0=None, preconditioner=None, verbose=0, client=None):\n",
    "    \"\"\" Conjugate gradient\n",
    "        \n",
    "        Parameters\n",
    "        ----------\n",
    "        A: array-like\n",
    "        b: array-like\n",
    "        tol: float\n",
    "        \n",
    "        Returns\n",
    "        -------\n",
    "        x: array-like\n",
    "        iters: int\n",
    "        resnorm: float\n",
    "        \n",
    "        Find x such that\n",
    "\n",
    "            Ax = b\n",
    "        \n",
    "        for square, symmetric A.\n",
    "\n",
    "        If a preconditioner M is provided, solve the left-preconditioned\n",
    "        equivalent problem,\n",
    "\n",
    "            M(Ax - b) = 0\n",
    "    \"\"\"\n",
    "    print_iter = max(1, maxiter / 10**verbose)\n",
    "\n",
    "    A, b, M = dask.persist(A, b, preconditioner)\n",
    "\n",
    "    if x0 is None:\n",
    "        r = 1 * b\n",
    "        x = 0 * b\n",
    "    else:\n",
    "        r = 1 * b - A.dot(x0)\n",
    "        x = x0\n",
    "\n",
    "    Mr = r if M is None else M.dot(r)\n",
    "    p = Mr\n",
    "    resnrm2 = r.dot(Mr)\n",
    "\n",
    "    x, r, p, resnrm2 = dask.persist(x, r, p, resnrm2)\n",
    "    (resnrm2,) = dask.compute(resnrm2)\n",
    "    if resnrm2**0.5 < tol:\n",
    "        return x, 0, resnrm2**0.5\n",
    "\n",
    "    for k in range(maxiter):\n",
    "        ox, ores, op, oresnrm2 = x, r, p, resnrm2\n",
    "\n",
    "        Ap = A.dot(p)\n",
    "        alpha = resnrm2 / p.dot(Ap)\n",
    "        x = ox + alpha * p\n",
    "        r = ores - alpha * Ap\n",
    "        Mr = r if M is None else M.dot(r)\n",
    "        resnrm2 = r.dot(Mr)\n",
    "\n",
    "        x, r, resnrm2 = dask.persist(x, r, resnrm2)\n",
    "        (resnrm2,) = dask.compute(resnrm2)\n",
    "\n",
    "        if resnrm2**0.5 < tol:\n",
    "            break\n",
    "        elif (k + 1) % print_iter == 0:\n",
    "            print(\"ITER: {:5}\\t||Ax -  b||_2: {}\".format(k + 1, resnrm2**0.5))\n",
    "\n",
    "        p = Mr + (resnrm2 / oresnrm2) * op\n",
    "        x, r, resnrm2, p= dask.persist(x, r, resnrm2, p)\n",
    "\n",
    "        (p,) = dask.persist(p)\n",
    "\n",
    "    return x, k + 1, resnrm2**0.5\n"
   ]
  },
  {
   "cell_type": "markdown",
   "metadata": {},
   "source": [
    "## Numpy array testing"
   ]
  },
  {
   "cell_type": "code",
   "execution_count": 4,
   "metadata": {
    "collapsed": true
   },
   "outputs": [],
   "source": [
    "m = 400\n",
    "n = 300\n",
    "mc = 100\n",
    "nc = 100"
   ]
  },
  {
   "cell_type": "code",
   "execution_count": 5,
   "metadata": {
    "collapsed": true
   },
   "outputs": [],
   "source": [
    "A = np.random.random((m, n))\n",
    "x = np.random.random(n)\n",
    "b = np.random.random(n)\n",
    "rho = 1."
   ]
  },
  {
   "cell_type": "code",
   "execution_count": 6,
   "metadata": {
    "collapsed": true
   },
   "outputs": [],
   "source": [
    "Asymm_unregularized = A.T.dot(A)"
   ]
  },
  {
   "cell_type": "code",
   "execution_count": 7,
   "metadata": {},
   "outputs": [
    {
     "name": "stdout",
     "output_type": "stream",
     "text": [
      "ITER:     1\t||Ax -  b||_2: 5.954936059837789\n",
      "ITER:     2\t||Ax -  b||_2: 4.515756617141952\n",
      "ITER:     3\t||Ax -  b||_2: 3.8234304419539065\n",
      "ITER:     4\t||Ax -  b||_2: 3.1257236167859337\n",
      "ITER:     5\t||Ax -  b||_2: 2.826238571725316\n",
      "ITER:     6\t||Ax -  b||_2: 2.7010391627856403\n",
      "ITER:     7\t||Ax -  b||_2: 27.248706020690978\n",
      "ITER:     8\t||Ax -  b||_2: 2.4236458589838366\n",
      "ITER:     9\t||Ax -  b||_2: 2.109629200669731\n",
      "ITER:    10\t||Ax -  b||_2: 1.8368963564816423\n",
      "ITER:    11\t||Ax -  b||_2: 1.546173460213795\n",
      "ITER:    12\t||Ax -  b||_2: 1.2787313302121377\n",
      "ITER:    13\t||Ax -  b||_2: 14.25466796972313\n",
      "ITER:    14\t||Ax -  b||_2: 1.0842027975920305\n",
      "ITER:    15\t||Ax -  b||_2: 0.9374326412471657\n",
      "ITER:    16\t||Ax -  b||_2: 0.776259862517466\n",
      "ITER:    17\t||Ax -  b||_2: 0.6679691094262388\n",
      "ITER:    18\t||Ax -  b||_2: 0.5387969300666192\n",
      "ITER:    19\t||Ax -  b||_2: 5.186177207176721\n",
      "ITER:    20\t||Ax -  b||_2: 0.4421667024435945\n",
      "ITER:    21\t||Ax -  b||_2: 0.3773210137745667\n",
      "ITER:    22\t||Ax -  b||_2: 0.305122032848546\n",
      "ITER:    23\t||Ax -  b||_2: 0.2698488640911036\n",
      "ITER:    24\t||Ax -  b||_2: 0.2475132144587647\n",
      "ITER:    25\t||Ax -  b||_2: 1.1528151258135586\n",
      "ITER:    26\t||Ax -  b||_2: 0.20751415219991137\n",
      "ITER:    27\t||Ax -  b||_2: 0.18809476554548843\n",
      "ITER:    28\t||Ax -  b||_2: 0.15653292281326556\n",
      "ITER:    29\t||Ax -  b||_2: 0.14103200336427163\n",
      "ITER:    30\t||Ax -  b||_2: 0.1362040766799417\n",
      "ITER:    31\t||Ax -  b||_2: 0.3201509144855602\n",
      "ITER:    32\t||Ax -  b||_2: 0.1073167697963375\n",
      "ITER:    33\t||Ax -  b||_2: 0.09794852057374528\n",
      "ITER:    34\t||Ax -  b||_2: 0.08563488980132794\n",
      "ITER:    35\t||Ax -  b||_2: 0.07827117831280868\n",
      "ITER:    36\t||Ax -  b||_2: 0.08757855094060175\n",
      "ITER:    37\t||Ax -  b||_2: 0.09560093682200431\n",
      "ITER:    38\t||Ax -  b||_2: 0.0525446551957535\n",
      "ITER:    39\t||Ax -  b||_2: 0.042387762431604685\n",
      "ITER:    40\t||Ax -  b||_2: 0.03722604309457229\n",
      "ITER:    41\t||Ax -  b||_2: 0.029374493379949046\n",
      "ITER:    42\t||Ax -  b||_2: 0.08281819484907686\n",
      "ITER:    43\t||Ax -  b||_2: 0.02662810733056675\n",
      "ITER:    44\t||Ax -  b||_2: 0.021241025355717518\n",
      "ITER:    45\t||Ax -  b||_2: 0.017385115405812585\n",
      "ITER:    46\t||Ax -  b||_2: 0.015261831991287163\n",
      "ITER:    47\t||Ax -  b||_2: 0.012755638961830325\n",
      "ITER:    48\t||Ax -  b||_2: 0.09324528910555954\n",
      "ITER:    49\t||Ax -  b||_2: 0.012443984791399354\n",
      "ITER:    50\t||Ax -  b||_2: 0.009637497434802572\n",
      "ITER:    51\t||Ax -  b||_2: 0.008566014570758845\n",
      "ITER:    52\t||Ax -  b||_2: 0.006517577398070146\n",
      "ITER:    53\t||Ax -  b||_2: 0.005632248678208314\n",
      "ITER:    54\t||Ax -  b||_2: 0.09582481107968711\n",
      "ITER:    55\t||Ax -  b||_2: 0.004922958750025211\n",
      "ITER:    56\t||Ax -  b||_2: 0.00404577083128394\n",
      "ITER:    57\t||Ax -  b||_2: 0.0037219277235458277\n",
      "ITER:    58\t||Ax -  b||_2: 0.0032254111664661625\n",
      "ITER:    59\t||Ax -  b||_2: 0.0026375612046162407\n",
      "ITER:    60\t||Ax -  b||_2: 0.01739948907589347\n",
      "ITER:    61\t||Ax -  b||_2: 0.002357925776655014\n",
      "ITER:    62\t||Ax -  b||_2: 0.0019244902655976175\n",
      "ITER:    63\t||Ax -  b||_2: 0.0015628871497829133\n",
      "ITER:    64\t||Ax -  b||_2: 0.0013338171430589572\n",
      "ITER:    65\t||Ax -  b||_2: 0.0013956068425565247\n",
      "ITER:    66\t||Ax -  b||_2: 0.001369801519550854\n",
      "ITER:    67\t||Ax -  b||_2: 0.000865979783521817\n",
      "ITER:    68\t||Ax -  b||_2: 0.0006688223197433308\n",
      "ITER:    69\t||Ax -  b||_2: 0.0005317733374468756\n",
      "ITER:    70\t||Ax -  b||_2: 0.00046830125785689644\n",
      "ITER:    71\t||Ax -  b||_2: 0.002452020349054646\n",
      "ITER:    72\t||Ax -  b||_2: 0.0004442107057948367\n",
      "ITER:    73\t||Ax -  b||_2: 0.0003573555134045658\n",
      "ITER:    74\t||Ax -  b||_2: 0.00031029027871042427\n",
      "ITER:    75\t||Ax -  b||_2: 0.0002535747371012396\n",
      "ITER:    76\t||Ax -  b||_2: 0.000205313395595708\n",
      "ITER:    77\t||Ax -  b||_2: 0.0032560850693351654\n",
      "ITER:    78\t||Ax -  b||_2: 0.00017837121622218935\n",
      "ITER:    79\t||Ax -  b||_2: 0.00015084430592323056\n",
      "ITER:    80\t||Ax -  b||_2: 0.00013276276742989204\n",
      "ITER:    81\t||Ax -  b||_2: 0.00010732514296393143\n",
      "ITER:    82\t||Ax -  b||_2: 0.00010029139429602045\n",
      "ITER:    83\t||Ax -  b||_2: 0.0003652075174971666\n",
      "ITER:    84\t||Ax -  b||_2: 8.398451420808597e-05\n",
      "ITER:    85\t||Ax -  b||_2: 8.168733986518074e-05\n",
      "ITER:    86\t||Ax -  b||_2: 7.094079452664106e-05\n",
      "ITER:    87\t||Ax -  b||_2: 6.562334838582172e-05\n",
      "ITER:    88\t||Ax -  b||_2: 8.495517538942235e-05\n",
      "ITER:    89\t||Ax -  b||_2: 7.931936272348421e-05\n",
      "ITER:    90\t||Ax -  b||_2: 4.7711462439033204e-05\n",
      "ITER:    91\t||Ax -  b||_2: 4.0674503805289164e-05\n",
      "ITER:    92\t||Ax -  b||_2: 3.229569856219001e-05\n",
      "ITER:    93\t||Ax -  b||_2: 2.6526392548463173e-05\n",
      "ITER:    94\t||Ax -  b||_2: 0.0001850260452657968\n",
      "ITER:    95\t||Ax -  b||_2: 2.1937711387773172e-05\n",
      "ITER:    96\t||Ax -  b||_2: 1.7408883094328203e-05\n",
      "ITER:    97\t||Ax -  b||_2: 1.5641830382855343e-05\n",
      "ITER:    98\t||Ax -  b||_2: 1.4469980256222864e-05\n",
      "ITER:    99\t||Ax -  b||_2: 1.1375933126328143e-05\n",
      "ITER:   100\t||Ax -  b||_2: 0.00018656905598238904\n",
      "ITER:   101\t||Ax -  b||_2: 9.45632122192225e-06\n",
      "ITER:   102\t||Ax -  b||_2: 7.325152030905366e-06\n",
      "ITER:   103\t||Ax -  b||_2: 5.248601849501573e-06\n",
      "ITER:   104\t||Ax -  b||_2: 4.599660312302022e-06\n",
      "ITER:   105\t||Ax -  b||_2: 4.1368578279484674e-06\n",
      "ITER:   106\t||Ax -  b||_2: 9.750752753981604e-06\n",
      "ITER:   107\t||Ax -  b||_2: 3.1833606209523574e-06\n",
      "ITER:   108\t||Ax -  b||_2: 2.4432189947779255e-06\n",
      "ITER:   109\t||Ax -  b||_2: 2.0746123426298106e-06\n",
      "ITER:   110\t||Ax -  b||_2: 1.6804366105275815e-06\n",
      "ITER:   111\t||Ax -  b||_2: 3.933343953797193e-06\n",
      "ITER:   112\t||Ax -  b||_2: 1.5581029417593823e-06\n",
      "ITER:   113\t||Ax -  b||_2: 1.0990709064200217e-06\n",
      "ITER:   114\t||Ax -  b||_2: 8.042695031557974e-07\n",
      "ITER:   115\t||Ax -  b||_2: 6.792571636805206e-07\n",
      "ITER:   116\t||Ax -  b||_2: 5.56755659441284e-07\n",
      "ITER:   117\t||Ax -  b||_2: 9.196982256337441e-06\n",
      "ITER:   118\t||Ax -  b||_2: 4.195488858480712e-07\n",
      "ITER:   119\t||Ax -  b||_2: 3.717072577222411e-07\n",
      "ITER:   120\t||Ax -  b||_2: 2.94392366085076e-07\n",
      "ITER:   121\t||Ax -  b||_2: 2.46218068097545e-07\n",
      "ITER:   122\t||Ax -  b||_2: 2.2979069838818192e-07\n",
      "ITER:   123\t||Ax -  b||_2: 6.745182889036986e-07\n",
      "ITER:   124\t||Ax -  b||_2: 1.591194269080234e-07\n",
      "ITER:   125\t||Ax -  b||_2: 1.2711527321995335e-07\n",
      "ITER:   126\t||Ax -  b||_2: 1.0120309336272898e-07\n",
      "ITER:   127\t||Ax -  b||_2: 8.432914934761684e-08\n",
      "ITER:   128\t||Ax -  b||_2: 2.8601109795744937e-07\n",
      "ITER:   129\t||Ax -  b||_2: 8.46202559051908e-08\n",
      "ITER:   130\t||Ax -  b||_2: 7.100911535404233e-08\n",
      "ITER:   131\t||Ax -  b||_2: 5.755127434393148e-08\n",
      "ITER:   132\t||Ax -  b||_2: 4.907026222748613e-08\n",
      "ITER:   133\t||Ax -  b||_2: 4.287962604724047e-08\n",
      "ITER:   134\t||Ax -  b||_2: 6.938597427972115e-07\n",
      "ITER:   135\t||Ax -  b||_2: 4.1779817066866685e-08\n",
      "ITER:   136\t||Ax -  b||_2: 3.5121958632628747e-08\n",
      "ITER:   137\t||Ax -  b||_2: 2.850931343684677e-08\n",
      "ITER:   138\t||Ax -  b||_2: 2.3319976480437695e-08\n",
      "ITER:   139\t||Ax -  b||_2: 1.7894156905902857e-08\n",
      "ITER:   140\t||Ax -  b||_2: 6.179870773346406e-08\n",
      "ITER:   141\t||Ax -  b||_2: 1.4301876258788474e-08\n",
      "ITER:   142\t||Ax -  b||_2: 1.1432547331197367e-08\n",
      "ITERS:  143\n",
      "||(rho * I + A'A)x - b||_2 / sqrt(n): 5.147494968414019e-10\n"
     ]
    }
   ],
   "source": [
    "xcg, iters, res = dcg(Asymm_unregularized, b, verbose=5)\n",
    "print(\"ITERS: {:4}\".format(iters))\n",
    "print(\"||(rho * I + A'A)x - b||_2 / sqrt(n): {}\".format(res / n**0.5))"
   ]
  },
  {
   "cell_type": "code",
   "execution_count": 8,
   "metadata": {
    "collapsed": true
   },
   "outputs": [],
   "source": [
    "Asymm_weakreg = A.T.dot(A) + 0.1 * np.eye(n)"
   ]
  },
  {
   "cell_type": "code",
   "execution_count": 9,
   "metadata": {
    "scrolled": true
   },
   "outputs": [
    {
     "name": "stdout",
     "output_type": "stream",
     "text": [
      "ITERS:  135\n",
      "||(rho * I + A'A)x - b||_2 / sqrt(n): 5.45759963413295e-10\n"
     ]
    }
   ],
   "source": [
    "xcg, iters, res = dcg(Asymm_weakreg, b)\n",
    "print(\"ITERS: {:4}\".format(iters))\n",
    "print(\"||(rho * I + A'A)x - b||_2 / sqrt(n): {}\".format(res / n**0.5))"
   ]
  },
  {
   "cell_type": "code",
   "execution_count": 10,
   "metadata": {
    "collapsed": true
   },
   "outputs": [],
   "source": [
    "Asymm = A.T.dot(A) + np.eye(n)"
   ]
  },
  {
   "cell_type": "code",
   "execution_count": 11,
   "metadata": {},
   "outputs": [
    {
     "name": "stdout",
     "output_type": "stream",
     "text": [
      "ITER:    50\t||Ax -  b||_2: 0.0035497162964003496\n",
      "ITERS:   96\n",
      "||(rho * I + A'A)x - b||_2 / sqrt(n): 5.335360348776144e-10\n"
     ]
    }
   ],
   "source": [
    "xcg, iters, res = dcg(Asymm, b, verbose=1)\n",
    "print(\"ITERS: {:4}\".format(iters))\n",
    "print(\"||(rho * I + A'A)x - b||_2 / sqrt(n): {}\".format(res / n**0.5))"
   ]
  },
  {
   "cell_type": "markdown",
   "metadata": {},
   "source": [
    "# Preconditioning"
   ]
  },
  {
   "cell_type": "code",
   "execution_count": 12,
   "metadata": {},
   "outputs": [
    {
     "name": "stdout",
     "output_type": "stream",
     "text": [
      "ITERS:   96\n",
      "||(rho * I + A'A)x - b||_2 / sqrt(n): 5.335360348776144e-10\n"
     ]
    }
   ],
   "source": [
    "xcg, iters, res = dcg(Asymm, b, preconditioner=np.eye(n))\n",
    "print(\"ITERS: {:4}\".format(iters))\n",
    "print(\"||(rho * I + A'A)x - b||_2 / sqrt(n): {}\".format(res / n**0.5))"
   ]
  },
  {
   "cell_type": "code",
   "execution_count": 13,
   "metadata": {
    "collapsed": true
   },
   "outputs": [],
   "source": [
    "class JacobiPrecond(object):\n",
    "    \"\"\" Build a Jacobi diagonal preconditioner P = inv(diag(A))\n",
    "    \"\"\"\n",
    "    def __init__(self, A_symmetric):\n",
    "        self.d = np.reciprocal(np.diag(A_symmetric))\n",
    "    def dot(self, v):\n",
    "        return self.d * v"
   ]
  },
  {
   "cell_type": "code",
   "execution_count": 14,
   "metadata": {},
   "outputs": [
    {
     "name": "stdout",
     "output_type": "stream",
     "text": [
      "ITERS:   86\n",
      "||(rho * I + A'A)x - b||_2 / sqrt(n): 5.192065024253674e-10\n"
     ]
    }
   ],
   "source": [
    "xcg, iters, res = dcg(Asymm, b, preconditioner=JacobiPrecond(Asymm))\n",
    "print(\"ITERS: {:4}\".format(iters))\n",
    "print(\"||(rho * I + A'A)x - b||_2 / sqrt(n): {}\".format(res / n**0.5))"
   ]
  },
  {
   "cell_type": "markdown",
   "metadata": {
    "collapsed": true
   },
   "source": [
    "## Warm start\n",
    "Let $x_{cg}$ be the solution to $Ax = b$, then set $b_{new} = b + b'$ for some (small) perturbation $b'$, and re-solve the system with and without providing $x_{cg}$ as an initial guess. \n",
    "\n",
    "We also compare the effects of warm starting with those of using a preconditioner."
   ]
  },
  {
   "cell_type": "code",
   "execution_count": 15,
   "metadata": {
    "collapsed": true
   },
   "outputs": [],
   "source": [
    "pct_perturb = 5.\n",
    "perturb = np.random.random(n) - 0.5\n",
    "perturb = (perturb / np.linalg.norm(perturb)) * (pct_perturb / 100.) * np.linalg.norm(b) \n",
    "b_new = b + perturb"
   ]
  },
  {
   "cell_type": "code",
   "execution_count": 16,
   "metadata": {},
   "outputs": [
    {
     "name": "stdout",
     "output_type": "stream",
     "text": [
      "ITERS:   74\n",
      "||(rho * I + A'A)x - b||_2 / sqrt(n): 4.647682906277335e-10\n"
     ]
    }
   ],
   "source": [
    "xwarm, iters, res = dcg(Asymm, b_new, x0=xcg, preconditioner=JacobiPrecond(Asymm))\n",
    "print(\"ITERS: {:4}\".format(iters))\n",
    "print(\"||(rho * I + A'A)x - b||_2 / sqrt(n): {}\".format(res / n**0.5))"
   ]
  },
  {
   "cell_type": "code",
   "execution_count": 17,
   "metadata": {},
   "outputs": [
    {
     "name": "stdout",
     "output_type": "stream",
     "text": [
      "ITERS:   86\n",
      "||(rho * I + A'A)x - b||_2 / sqrt(n): 4.958555186430752e-10\n"
     ]
    }
   ],
   "source": [
    "xcold, iters, res = dcg(Asymm, b_new, preconditioner=JacobiPrecond(Asymm))\n",
    "print(\"ITERS: {:4}\".format(iters))\n",
    "print(\"||(rho * I + A'A)x - b||_2 / sqrt(n): {}\".format(res / n**0.5))"
   ]
  },
  {
   "cell_type": "code",
   "execution_count": 18,
   "metadata": {},
   "outputs": [
    {
     "name": "stdout",
     "output_type": "stream",
     "text": [
      "ITERS:   82\n",
      "||(rho * I + A'A)x - b||_2 / sqrt(n): 5.74764364839337e-10\n"
     ]
    }
   ],
   "source": [
    "xwarm_noprecon, iters, res = dcg(Asymm, b_new, x0=xcg)\n",
    "print(\"ITERS: {:4}\".format(iters))\n",
    "print(\"||(rho * I + A'A)x - b||_2 / sqrt(n): {}\".format(res / n**0.5))"
   ]
  },
  {
   "cell_type": "code",
   "execution_count": 19,
   "metadata": {},
   "outputs": [
    {
     "name": "stdout",
     "output_type": "stream",
     "text": [
      "ITERS:   96\n",
      "||(rho * I + A'A)x - b||_2 / sqrt(n): 5.766699953364872e-10\n"
     ]
    }
   ],
   "source": [
    "xcold_noprecon, iters, res = dcg(Asymm, b_new)\n",
    "print(\"ITERS: {:4}\".format(iters))\n",
    "print(\"||(rho * I + A'A)x - b||_2 / sqrt(n): {}\".format(res / n**0.5))"
   ]
  },
  {
   "cell_type": "markdown",
   "metadata": {},
   "source": [
    "|Conditions                  | Iterations |\n",
    "|:---------------------------|------------|\n",
    "|Cold start                  | 93         |\n",
    "|Cold start + preconditioner | 84         |\n",
    "|Warm start                  | 82         |\n",
    "|Warm start + preconditioner | 72         |"
   ]
  },
  {
   "cell_type": "markdown",
   "metadata": {},
   "source": [
    "## Dask vs. numpy arrays"
   ]
  },
  {
   "cell_type": "code",
   "execution_count": 20,
   "metadata": {
    "collapsed": true
   },
   "outputs": [],
   "source": [
    "c = n/2"
   ]
  },
  {
   "cell_type": "code",
   "execution_count": 21,
   "metadata": {
    "collapsed": true
   },
   "outputs": [],
   "source": [
    "Ad = da.from_array(Asymm, chunks=c)\n",
    "bd = da.from_array(b, chunks=c)"
   ]
  },
  {
   "cell_type": "code",
   "execution_count": 25,
   "metadata": {},
   "outputs": [],
   "source": [
    "%lprun -f dcg dcg(Ad, b)"
   ]
  },
  {
   "cell_type": "code",
   "execution_count": 26,
   "metadata": {},
   "outputs": [],
   "source": [
    "%lprun -f dcg dcg(Asymm, b)"
   ]
  },
  {
   "cell_type": "markdown",
   "metadata": {},
   "source": [
    "For $A\\in R^{300\\times 300}$, the CG runtime is around 6ms using ``numpy`` arrays. When we switch to ``dask`` arrays, the results (solution $x$, iteration count $k$, and residual $\\|Ax-b\\|_2$) are all the same, but the call now takes around 2s."
   ]
  }
 ],
 "metadata": {
  "kernelspec": {
   "display_name": "Python 3",
   "language": "python",
   "name": "python3"
  },
  "language_info": {
   "codemirror_mode": {
    "name": "ipython",
    "version": 3
   },
   "file_extension": ".py",
   "mimetype": "text/x-python",
   "name": "python",
   "nbconvert_exporter": "python",
   "pygments_lexer": "ipython3",
   "version": "3.5.4"
  }
 },
 "nbformat": 4,
 "nbformat_minor": 2
}
