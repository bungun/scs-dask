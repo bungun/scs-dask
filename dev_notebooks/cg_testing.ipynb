{
 "cells": [
  {
   "cell_type": "code",
   "execution_count": 1,
   "metadata": {},
   "outputs": [
    {
     "ename": "ImportError",
     "evalue": "No module named line_profiler",
     "output_type": "error",
     "traceback": [
      "\u001b[0;31m---------------------------------------------------------------------------\u001b[0m",
      "\u001b[0;31mImportError\u001b[0m                               Traceback (most recent call last)",
      "\u001b[0;32m<ipython-input-1-8ee1ec913c55>\u001b[0m in \u001b[0;36m<module>\u001b[0;34m()\u001b[0m\n\u001b[1;32m      2\u001b[0m \u001b[0;32mimport\u001b[0m \u001b[0mdask\u001b[0m\u001b[0;34m\u001b[0m\u001b[0m\n\u001b[1;32m      3\u001b[0m \u001b[0;32mimport\u001b[0m \u001b[0mdask\u001b[0m\u001b[0;34m.\u001b[0m\u001b[0marray\u001b[0m \u001b[0;32mas\u001b[0m \u001b[0mda\u001b[0m\u001b[0;34m\u001b[0m\u001b[0m\n\u001b[0;32m----> 4\u001b[0;31m \u001b[0mget_ipython\u001b[0m\u001b[0;34m(\u001b[0m\u001b[0;34m)\u001b[0m\u001b[0;34m.\u001b[0m\u001b[0mmagic\u001b[0m\u001b[0;34m(\u001b[0m\u001b[0;34mu'load_ext line_profiler'\u001b[0m\u001b[0;34m)\u001b[0m\u001b[0;34m\u001b[0m\u001b[0m\n\u001b[0m",
      "\u001b[0;32m/Users/Baris/anaconda2/envs/dasktest/lib/python2.7/site-packages/IPython/core/interactiveshell.pyc\u001b[0m in \u001b[0;36mmagic\u001b[0;34m(self, arg_s)\u001b[0m\n\u001b[1;32m   2156\u001b[0m         \u001b[0mmagic_name\u001b[0m\u001b[0;34m,\u001b[0m \u001b[0m_\u001b[0m\u001b[0;34m,\u001b[0m \u001b[0mmagic_arg_s\u001b[0m \u001b[0;34m=\u001b[0m \u001b[0marg_s\u001b[0m\u001b[0;34m.\u001b[0m\u001b[0mpartition\u001b[0m\u001b[0;34m(\u001b[0m\u001b[0;34m' '\u001b[0m\u001b[0;34m)\u001b[0m\u001b[0;34m\u001b[0m\u001b[0m\n\u001b[1;32m   2157\u001b[0m         \u001b[0mmagic_name\u001b[0m \u001b[0;34m=\u001b[0m \u001b[0mmagic_name\u001b[0m\u001b[0;34m.\u001b[0m\u001b[0mlstrip\u001b[0m\u001b[0;34m(\u001b[0m\u001b[0mprefilter\u001b[0m\u001b[0;34m.\u001b[0m\u001b[0mESC_MAGIC\u001b[0m\u001b[0;34m)\u001b[0m\u001b[0;34m\u001b[0m\u001b[0m\n\u001b[0;32m-> 2158\u001b[0;31m         \u001b[0;32mreturn\u001b[0m \u001b[0mself\u001b[0m\u001b[0;34m.\u001b[0m\u001b[0mrun_line_magic\u001b[0m\u001b[0;34m(\u001b[0m\u001b[0mmagic_name\u001b[0m\u001b[0;34m,\u001b[0m \u001b[0mmagic_arg_s\u001b[0m\u001b[0;34m)\u001b[0m\u001b[0;34m\u001b[0m\u001b[0m\n\u001b[0m\u001b[1;32m   2159\u001b[0m \u001b[0;34m\u001b[0m\u001b[0m\n\u001b[1;32m   2160\u001b[0m     \u001b[0;31m#-------------------------------------------------------------------------\u001b[0m\u001b[0;34m\u001b[0m\u001b[0;34m\u001b[0m\u001b[0m\n",
      "\u001b[0;32m/Users/Baris/anaconda2/envs/dasktest/lib/python2.7/site-packages/IPython/core/interactiveshell.pyc\u001b[0m in \u001b[0;36mrun_line_magic\u001b[0;34m(self, magic_name, line)\u001b[0m\n\u001b[1;32m   2077\u001b[0m                 \u001b[0mkwargs\u001b[0m\u001b[0;34m[\u001b[0m\u001b[0;34m'local_ns'\u001b[0m\u001b[0;34m]\u001b[0m \u001b[0;34m=\u001b[0m \u001b[0msys\u001b[0m\u001b[0;34m.\u001b[0m\u001b[0m_getframe\u001b[0m\u001b[0;34m(\u001b[0m\u001b[0mstack_depth\u001b[0m\u001b[0;34m)\u001b[0m\u001b[0;34m.\u001b[0m\u001b[0mf_locals\u001b[0m\u001b[0;34m\u001b[0m\u001b[0m\n\u001b[1;32m   2078\u001b[0m             \u001b[0;32mwith\u001b[0m \u001b[0mself\u001b[0m\u001b[0;34m.\u001b[0m\u001b[0mbuiltin_trap\u001b[0m\u001b[0;34m:\u001b[0m\u001b[0;34m\u001b[0m\u001b[0m\n\u001b[0;32m-> 2079\u001b[0;31m                 \u001b[0mresult\u001b[0m \u001b[0;34m=\u001b[0m \u001b[0mfn\u001b[0m\u001b[0;34m(\u001b[0m\u001b[0;34m*\u001b[0m\u001b[0margs\u001b[0m\u001b[0;34m,\u001b[0m\u001b[0;34m**\u001b[0m\u001b[0mkwargs\u001b[0m\u001b[0;34m)\u001b[0m\u001b[0;34m\u001b[0m\u001b[0m\n\u001b[0m\u001b[1;32m   2080\u001b[0m             \u001b[0;32mreturn\u001b[0m \u001b[0mresult\u001b[0m\u001b[0;34m\u001b[0m\u001b[0m\n\u001b[1;32m   2081\u001b[0m \u001b[0;34m\u001b[0m\u001b[0m\n",
      "\u001b[0;32m<decorator-gen-62>\u001b[0m in \u001b[0;36mload_ext\u001b[0;34m(self, module_str)\u001b[0m\n",
      "\u001b[0;32m/Users/Baris/anaconda2/envs/dasktest/lib/python2.7/site-packages/IPython/core/magic.pyc\u001b[0m in \u001b[0;36m<lambda>\u001b[0;34m(f, *a, **k)\u001b[0m\n\u001b[1;32m    186\u001b[0m     \u001b[0;31m# but it's overkill for just that one bit of state.\u001b[0m\u001b[0;34m\u001b[0m\u001b[0;34m\u001b[0m\u001b[0m\n\u001b[1;32m    187\u001b[0m     \u001b[0;32mdef\u001b[0m \u001b[0mmagic_deco\u001b[0m\u001b[0;34m(\u001b[0m\u001b[0marg\u001b[0m\u001b[0;34m)\u001b[0m\u001b[0;34m:\u001b[0m\u001b[0;34m\u001b[0m\u001b[0m\n\u001b[0;32m--> 188\u001b[0;31m         \u001b[0mcall\u001b[0m \u001b[0;34m=\u001b[0m \u001b[0;32mlambda\u001b[0m \u001b[0mf\u001b[0m\u001b[0;34m,\u001b[0m \u001b[0;34m*\u001b[0m\u001b[0ma\u001b[0m\u001b[0;34m,\u001b[0m \u001b[0;34m**\u001b[0m\u001b[0mk\u001b[0m\u001b[0;34m:\u001b[0m \u001b[0mf\u001b[0m\u001b[0;34m(\u001b[0m\u001b[0;34m*\u001b[0m\u001b[0ma\u001b[0m\u001b[0;34m,\u001b[0m \u001b[0;34m**\u001b[0m\u001b[0mk\u001b[0m\u001b[0;34m)\u001b[0m\u001b[0;34m\u001b[0m\u001b[0m\n\u001b[0m\u001b[1;32m    189\u001b[0m \u001b[0;34m\u001b[0m\u001b[0m\n\u001b[1;32m    190\u001b[0m         \u001b[0;32mif\u001b[0m \u001b[0mcallable\u001b[0m\u001b[0;34m(\u001b[0m\u001b[0marg\u001b[0m\u001b[0;34m)\u001b[0m\u001b[0;34m:\u001b[0m\u001b[0;34m\u001b[0m\u001b[0m\n",
      "\u001b[0;32m/Users/Baris/anaconda2/envs/dasktest/lib/python2.7/site-packages/IPython/core/magics/extension.pyc\u001b[0m in \u001b[0;36mload_ext\u001b[0;34m(self, module_str)\u001b[0m\n\u001b[1;32m     35\u001b[0m         \u001b[0;32mif\u001b[0m \u001b[0;32mnot\u001b[0m \u001b[0mmodule_str\u001b[0m\u001b[0;34m:\u001b[0m\u001b[0;34m\u001b[0m\u001b[0m\n\u001b[1;32m     36\u001b[0m             \u001b[0;32mraise\u001b[0m \u001b[0mUsageError\u001b[0m\u001b[0;34m(\u001b[0m\u001b[0;34m'Missing module name.'\u001b[0m\u001b[0;34m)\u001b[0m\u001b[0;34m\u001b[0m\u001b[0m\n\u001b[0;32m---> 37\u001b[0;31m         \u001b[0mres\u001b[0m \u001b[0;34m=\u001b[0m \u001b[0mself\u001b[0m\u001b[0;34m.\u001b[0m\u001b[0mshell\u001b[0m\u001b[0;34m.\u001b[0m\u001b[0mextension_manager\u001b[0m\u001b[0;34m.\u001b[0m\u001b[0mload_extension\u001b[0m\u001b[0;34m(\u001b[0m\u001b[0mmodule_str\u001b[0m\u001b[0;34m)\u001b[0m\u001b[0;34m\u001b[0m\u001b[0m\n\u001b[0m\u001b[1;32m     38\u001b[0m \u001b[0;34m\u001b[0m\u001b[0m\n\u001b[1;32m     39\u001b[0m         \u001b[0;32mif\u001b[0m \u001b[0mres\u001b[0m \u001b[0;34m==\u001b[0m \u001b[0;34m'already loaded'\u001b[0m\u001b[0;34m:\u001b[0m\u001b[0;34m\u001b[0m\u001b[0m\n",
      "\u001b[0;32m/Users/Baris/anaconda2/envs/dasktest/lib/python2.7/site-packages/IPython/core/extensions.pyc\u001b[0m in \u001b[0;36mload_extension\u001b[0;34m(self, module_str)\u001b[0m\n\u001b[1;32m     81\u001b[0m             \u001b[0;32mif\u001b[0m \u001b[0mmodule_str\u001b[0m \u001b[0;32mnot\u001b[0m \u001b[0;32min\u001b[0m \u001b[0msys\u001b[0m\u001b[0;34m.\u001b[0m\u001b[0mmodules\u001b[0m\u001b[0;34m:\u001b[0m\u001b[0;34m\u001b[0m\u001b[0m\n\u001b[1;32m     82\u001b[0m                 \u001b[0;32mwith\u001b[0m \u001b[0mprepended_to_syspath\u001b[0m\u001b[0;34m(\u001b[0m\u001b[0mself\u001b[0m\u001b[0;34m.\u001b[0m\u001b[0mipython_extension_dir\u001b[0m\u001b[0;34m)\u001b[0m\u001b[0;34m:\u001b[0m\u001b[0;34m\u001b[0m\u001b[0m\n\u001b[0;32m---> 83\u001b[0;31m                     \u001b[0m__import__\u001b[0m\u001b[0;34m(\u001b[0m\u001b[0mmodule_str\u001b[0m\u001b[0;34m)\u001b[0m\u001b[0;34m\u001b[0m\u001b[0m\n\u001b[0m\u001b[1;32m     84\u001b[0m             \u001b[0mmod\u001b[0m \u001b[0;34m=\u001b[0m \u001b[0msys\u001b[0m\u001b[0;34m.\u001b[0m\u001b[0mmodules\u001b[0m\u001b[0;34m[\u001b[0m\u001b[0mmodule_str\u001b[0m\u001b[0;34m]\u001b[0m\u001b[0;34m\u001b[0m\u001b[0m\n\u001b[1;32m     85\u001b[0m             \u001b[0;32mif\u001b[0m \u001b[0mself\u001b[0m\u001b[0;34m.\u001b[0m\u001b[0m_call_load_ipython_extension\u001b[0m\u001b[0;34m(\u001b[0m\u001b[0mmod\u001b[0m\u001b[0;34m)\u001b[0m\u001b[0;34m:\u001b[0m\u001b[0;34m\u001b[0m\u001b[0m\n",
      "\u001b[0;31mImportError\u001b[0m: No module named line_profiler"
     ]
    }
   ],
   "source": [
    "import numpy as np\n",
    "import dask\n",
    "import dask.array as da\n",
    "# %load_ext line_profiler"
   ]
  },
  {
   "cell_type": "code",
   "execution_count": 3,
   "metadata": {},
   "outputs": [
    {
     "data": {
      "text/plain": [
       "<function numpy.core.fromnumeric.transpose>"
      ]
     },
     "execution_count": 3,
     "metadata": {},
     "output_type": "execute_result"
    }
   ],
   "source": [
    "da.transpose"
   ]
  },
  {
   "cell_type": "code",
   "execution_count": 101,
   "metadata": {
    "collapsed": true
   },
   "outputs": [],
   "source": [
    "def dcg(A, b, tol=1e-8, maxiter=500, x0=None, preconditioner=None, verbose=0, client=None):\n",
    "    \"\"\" Conjugate gradient\n",
    "        \n",
    "        Parameters\n",
    "        ----------\n",
    "        A: array-like\n",
    "        b: array-like\n",
    "        tol: float\n",
    "        \n",
    "        Returns\n",
    "        -------\n",
    "        x: array-like\n",
    "        iters: int\n",
    "        resnorm: float\n",
    "        \n",
    "        Find x such that\n",
    "\n",
    "            Ax = b\n",
    "        \n",
    "        for square, symmetric A.\n",
    "\n",
    "        If a preconditioner M is provided, solve the left-preconditioned\n",
    "        equivalent problem,\n",
    "\n",
    "            M(Ax - b) = 0\n",
    "    \"\"\"\n",
    "    print_iter = max(1, maxiter / 10**verbose)\n",
    "\n",
    "    A, b, M = dask.persist(A, b, preconditioner)\n",
    "\n",
    "    if x0 is None:\n",
    "        r = 1 * b\n",
    "        x = 0 * b\n",
    "    else:\n",
    "        r = 1 * b - A.dot(x0)\n",
    "        x = x0\n",
    "\n",
    "    Mr = r if M is None else M.dot(r)\n",
    "    p = Mr\n",
    "    resnrm2 = r.dot(Mr)\n",
    "\n",
    "    x, r, p, resnrm2 = dask.persist(x, r, p, resnrm2)\n",
    "    (resnrm2,) = dask.compute(resnrm2)\n",
    "    if resnrm2**0.5 < tol:\n",
    "        return x, 0, resnrm2**0.5\n",
    "\n",
    "    for k in range(maxiter):\n",
    "        ox, ores, op, oresnrm2 = x, r, p, resnrm2\n",
    "\n",
    "        Ap = A.dot(p)\n",
    "        alpha = resnrm2 / p.dot(Ap)\n",
    "        x = ox + alpha * p\n",
    "        r = ores - alpha * Ap\n",
    "        Mr = r if M is None else M.dot(r)\n",
    "        resnrm2 = r.dot(Mr)\n",
    "\n",
    "        x, r, resnrm2 = dask.persist(x, r, resnrm2)\n",
    "        (resnrm2,) = dask.compute(resnrm2)\n",
    "\n",
    "        if resnrm2**0.5 < tol:\n",
    "            break\n",
    "        elif (k + 1) % print_iter == 0:\n",
    "            print(\"ITER: {:5}\\t||Ax -  b||_2: {}\".format(k + 1, resnrm2**0.5))\n",
    "\n",
    "        p = Mr + (resnrm2 / oresnrm2) * op\n",
    "        x, r, resnrm2, p= dask.persist(x, r, resnrm2, p)\n",
    "\n",
    "        (p,) = dask.persist(p)\n",
    "\n",
    "    return x, k + 1, resnrm2**0.5\n"
   ]
  },
  {
   "cell_type": "markdown",
   "metadata": {},
   "source": [
    "## Numpy array testing"
   ]
  },
  {
   "cell_type": "code",
   "execution_count": 87,
   "metadata": {
    "collapsed": true
   },
   "outputs": [],
   "source": [
    "m = 400\n",
    "n = 300\n",
    "mc = 100\n",
    "nc = 100"
   ]
  },
  {
   "cell_type": "code",
   "execution_count": 88,
   "metadata": {
    "collapsed": true
   },
   "outputs": [],
   "source": [
    "A = np.random.random((m, n))\n",
    "x = np.random.random(n)\n",
    "b = np.random.random(n)\n",
    "rho = 1."
   ]
  },
  {
   "cell_type": "code",
   "execution_count": 89,
   "metadata": {
    "collapsed": true
   },
   "outputs": [],
   "source": [
    "Asymm_unregularized = A.T.dot(A)"
   ]
  },
  {
   "cell_type": "code",
   "execution_count": 90,
   "metadata": {},
   "outputs": [
    {
     "name": "stdout",
     "output_type": "stream",
     "text": [
      "ITER:     1\t||Ax -  b||_2: 5.4518820281927605\n",
      "ITER:     2\t||Ax -  b||_2: 4.4699918357914825\n",
      "ITER:     3\t||Ax -  b||_2: 3.767801181503383\n",
      "ITER:     4\t||Ax -  b||_2: 3.378497818515491\n",
      "ITER:     5\t||Ax -  b||_2: 2.802273886853752\n",
      "ITER:     6\t||Ax -  b||_2: 2.358055618490828\n",
      "ITER:     7\t||Ax -  b||_2: 8.326831181577527\n",
      "ITER:     8\t||Ax -  b||_2: 1.937614759852169\n",
      "ITER:     9\t||Ax -  b||_2: 1.779677110707361\n",
      "ITER:    10\t||Ax -  b||_2: 1.5640713788686087\n",
      "ITER:    11\t||Ax -  b||_2: 1.2515824824691368\n",
      "ITER:    12\t||Ax -  b||_2: 1.0224270793109556\n",
      "ITER:    13\t||Ax -  b||_2: 15.17339267627602\n",
      "ITER:    14\t||Ax -  b||_2: 0.856835348069205\n",
      "ITER:    15\t||Ax -  b||_2: 0.7750949007734822\n",
      "ITER:    16\t||Ax -  b||_2: 0.6278138729140018\n",
      "ITER:    17\t||Ax -  b||_2: 0.4930684387451341\n",
      "ITER:    18\t||Ax -  b||_2: 0.40511716324915664\n",
      "ITER:    19\t||Ax -  b||_2: 3.820740754413606\n",
      "ITER:    20\t||Ax -  b||_2: 0.3368478904826705\n",
      "ITER:    21\t||Ax -  b||_2: 0.2813460841866662\n",
      "ITER:    22\t||Ax -  b||_2: 0.2312076139710682\n",
      "ITER:    23\t||Ax -  b||_2: 0.18871122497758333\n",
      "ITER:    24\t||Ax -  b||_2: 0.17982594665076565\n",
      "ITER:    25\t||Ax -  b||_2: 0.5693404117712874\n",
      "ITER:    26\t||Ax -  b||_2: 0.13404021381642714\n",
      "ITER:    27\t||Ax -  b||_2: 0.11636995179089613\n",
      "ITER:    28\t||Ax -  b||_2: 0.11459322317646667\n",
      "ITER:    29\t||Ax -  b||_2: 0.1078260939961346\n",
      "ITER:    30\t||Ax -  b||_2: 0.12841839797734075\n",
      "ITER:    31\t||Ax -  b||_2: 0.1645822451019347\n",
      "ITER:    32\t||Ax -  b||_2: 0.08401885797156798\n",
      "ITER:    33\t||Ax -  b||_2: 0.06784714492178362\n",
      "ITER:    34\t||Ax -  b||_2: 0.05666847834975154\n",
      "ITER:    35\t||Ax -  b||_2: 0.04907817883757131\n",
      "ITER:    36\t||Ax -  b||_2: 0.09014742840165518\n",
      "ITER:    37\t||Ax -  b||_2: 0.04658397742171478\n",
      "ITER:    38\t||Ax -  b||_2: 0.035797822258087364\n",
      "ITER:    39\t||Ax -  b||_2: 0.031622742447935864\n",
      "ITER:    40\t||Ax -  b||_2: 0.024821264495796833\n",
      "ITER:    41\t||Ax -  b||_2: 0.020110758237024025\n",
      "ITER:    42\t||Ax -  b||_2: 0.10665140223172438\n",
      "ITER:    43\t||Ax -  b||_2: 0.01623199975614491\n",
      "ITER:    44\t||Ax -  b||_2: 0.01382219689887994\n",
      "ITER:    45\t||Ax -  b||_2: 0.010718254948283051\n",
      "ITER:    46\t||Ax -  b||_2: 0.008722114750258868\n",
      "ITER:    47\t||Ax -  b||_2: 0.007056023386127386\n",
      "ITER:    48\t||Ax -  b||_2: 0.11144762667939281\n",
      "ITER:    49\t||Ax -  b||_2: 0.0065386656524118215\n",
      "ITER:    50\t||Ax -  b||_2: 0.005214680217618871\n",
      "ITER:    51\t||Ax -  b||_2: 0.004510397397317378\n",
      "ITER:    52\t||Ax -  b||_2: 0.0036911341344380284\n",
      "ITER:    53\t||Ax -  b||_2: 0.003256805249961895\n",
      "ITER:    54\t||Ax -  b||_2: 0.051048670887231244\n",
      "ITER:    55\t||Ax -  b||_2: 0.002503995139230598\n",
      "ITER:    56\t||Ax -  b||_2: 0.0020214431858460793\n",
      "ITER:    57\t||Ax -  b||_2: 0.0016435934611463655\n",
      "ITER:    58\t||Ax -  b||_2: 0.0014373484724467442\n",
      "ITER:    59\t||Ax -  b||_2: 0.0013526197314249493\n",
      "ITER:    60\t||Ax -  b||_2: 0.01374191661743048\n",
      "ITER:    61\t||Ax -  b||_2: 0.0011385489432120934\n",
      "ITER:    62\t||Ax -  b||_2: 0.0010453631481984276\n",
      "ITER:    63\t||Ax -  b||_2: 0.0008995597019418065\n",
      "ITER:    64\t||Ax -  b||_2: 0.0007316391978821518\n",
      "ITER:    65\t||Ax -  b||_2: 0.0006125495360268798\n",
      "ITER:    66\t||Ax -  b||_2: 0.0016071939171657665\n",
      "ITER:    67\t||Ax -  b||_2: 0.0004998063952338919\n",
      "ITER:    68\t||Ax -  b||_2: 0.00044891315199639795\n",
      "ITER:    69\t||Ax -  b||_2: 0.00036931409895634934\n",
      "ITER:    70\t||Ax -  b||_2: 0.00032727830829892965\n",
      "ITER:    71\t||Ax -  b||_2: 0.0007245406332242566\n",
      "ITER:    72\t||Ax -  b||_2: 0.000310669350277126\n",
      "ITER:    73\t||Ax -  b||_2: 0.00024198523721442286\n",
      "ITER:    74\t||Ax -  b||_2: 0.00022894364803249093\n",
      "ITER:    75\t||Ax -  b||_2: 0.00017486510228308493\n",
      "ITER:    76\t||Ax -  b||_2: 0.00014152992408749827\n",
      "ITER:    77\t||Ax -  b||_2: 0.0006261144609553934\n",
      "ITER:    78\t||Ax -  b||_2: 0.00012050219081277715\n",
      "ITER:    79\t||Ax -  b||_2: 9.442248221920451e-05\n",
      "ITER:    80\t||Ax -  b||_2: 9.10919842892068e-05\n",
      "ITER:    81\t||Ax -  b||_2: 8.827822414781836e-05\n",
      "ITER:    82\t||Ax -  b||_2: 7.721081630149323e-05\n",
      "ITER:    83\t||Ax -  b||_2: 0.001185919515146988\n",
      "ITER:    84\t||Ax -  b||_2: 6.882564146397137e-05\n",
      "ITER:    85\t||Ax -  b||_2: 6.236311537587494e-05\n",
      "ITER:    86\t||Ax -  b||_2: 5.061613579499825e-05\n",
      "ITER:    87\t||Ax -  b||_2: 4.477239329783121e-05\n",
      "ITER:    88\t||Ax -  b||_2: 3.4714746866649716e-05\n",
      "ITER:    89\t||Ax -  b||_2: 0.00015543606236272903\n",
      "ITER:    90\t||Ax -  b||_2: 2.756479693220197e-05\n",
      "ITER:    91\t||Ax -  b||_2: 2.2902597786294134e-05\n",
      "ITER:    92\t||Ax -  b||_2: 1.9538792481391807e-05\n",
      "ITER:    93\t||Ax -  b||_2: 1.666270768357274e-05\n",
      "ITER:    94\t||Ax -  b||_2: 3.81868290431525e-05\n",
      "ITER:    95\t||Ax -  b||_2: 1.6236488131605478e-05\n",
      "ITER:    96\t||Ax -  b||_2: 1.3951821519331824e-05\n",
      "ITER:    97\t||Ax -  b||_2: 1.2124153181005665e-05\n",
      "ITER:    98\t||Ax -  b||_2: 9.67139961001242e-06\n",
      "ITER:    99\t||Ax -  b||_2: 7.839894480678595e-06\n",
      "ITER:   100\t||Ax -  b||_2: 7.998764860090682e-05\n",
      "ITER:   101\t||Ax -  b||_2: 5.730703067420457e-06\n",
      "ITER:   102\t||Ax -  b||_2: 4.469172172130836e-06\n",
      "ITER:   103\t||Ax -  b||_2: 3.906641713179729e-06\n",
      "ITER:   104\t||Ax -  b||_2: 3.671335027069927e-06\n",
      "ITER:   105\t||Ax -  b||_2: 3.1753838073254313e-06\n",
      "ITER:   106\t||Ax -  b||_2: 3.6538717362073696e-05\n",
      "ITER:   107\t||Ax -  b||_2: 2.5875483513234696e-06\n",
      "ITER:   108\t||Ax -  b||_2: 2.1038466484976635e-06\n",
      "ITER:   109\t||Ax -  b||_2: 1.7367403412599374e-06\n",
      "ITER:   110\t||Ax -  b||_2: 1.3238549383503895e-06\n",
      "ITER:   111\t||Ax -  b||_2: 1.3679834516634041e-06\n",
      "ITER:   112\t||Ax -  b||_2: 2.297367705613797e-06\n",
      "ITER:   113\t||Ax -  b||_2: 1.1436246959395184e-06\n",
      "ITER:   114\t||Ax -  b||_2: 9.436633499489815e-07\n",
      "ITER:   115\t||Ax -  b||_2: 7.467870996079047e-07\n",
      "ITER:   116\t||Ax -  b||_2: 6.441977300173748e-07\n",
      "ITER:   117\t||Ax -  b||_2: 2.100469865571647e-06\n",
      "ITER:   118\t||Ax -  b||_2: 5.323444563068335e-07\n",
      "ITER:   119\t||Ax -  b||_2: 4.315097605991305e-07\n",
      "ITER:   120\t||Ax -  b||_2: 3.948277170947988e-07\n",
      "ITER:   121\t||Ax -  b||_2: 3.466378634162461e-07\n",
      "ITER:   122\t||Ax -  b||_2: 2.977614709937021e-07\n",
      "ITER:   123\t||Ax -  b||_2: 3.355057918742762e-06\n",
      "ITER:   124\t||Ax -  b||_2: 2.484809694938917e-07\n",
      "ITER:   125\t||Ax -  b||_2: 2.0882511199391878e-07\n",
      "ITER:   126\t||Ax -  b||_2: 1.741617890178086e-07\n",
      "ITER:   127\t||Ax -  b||_2: 1.2440285122042547e-07\n",
      "ITER:   128\t||Ax -  b||_2: 1.1054355758763327e-07\n",
      "ITER:   129\t||Ax -  b||_2: 9.779573857117386e-07\n",
      "ITER:   130\t||Ax -  b||_2: 9.182519770090215e-08\n",
      "ITER:   131\t||Ax -  b||_2: 8.318802887777533e-08\n",
      "ITER:   132\t||Ax -  b||_2: 6.468451076924504e-08\n",
      "ITER:   133\t||Ax -  b||_2: 5.83500760658114e-08\n",
      "ITER:   134\t||Ax -  b||_2: 5.2090301547988453e-08\n",
      "ITER:   135\t||Ax -  b||_2: 3.768174998467322e-07\n",
      "ITER:   136\t||Ax -  b||_2: 3.902951843005309e-08\n",
      "ITER:   137\t||Ax -  b||_2: 3.3054018932491344e-08\n",
      "ITER:   138\t||Ax -  b||_2: 2.7406109796325547e-08\n",
      "ITER:   139\t||Ax -  b||_2: 2.2732584006095238e-08\n",
      "ITER:   140\t||Ax -  b||_2: 1.776581373816155e-08\n",
      "ITER:   141\t||Ax -  b||_2: 8.819890860681457e-08\n",
      "ITER:   142\t||Ax -  b||_2: 1.5378443121173922e-08\n",
      "ITER:   143\t||Ax -  b||_2: 1.1473500266868273e-08\n",
      "ITER:   144\t||Ax -  b||_2: 1.068506641671973e-08\n",
      "ITER:   145\t||Ax -  b||_2: 1.0297762765658936e-08\n",
      "ITERS:  146\n",
      "||(rho * I + A'A)x - b||_2 / sqrt(n): 4.943940294984637e-10\n"
     ]
    }
   ],
   "source": [
    "xcg, iters, res = dcg(Asymm_unregularized, b, verbose=5)\n",
    "print(\"ITERS: {:4}\".format(iters))\n",
    "print(\"||(rho * I + A'A)x - b||_2 / sqrt(n): {}\".format(res / n**0.5))"
   ]
  },
  {
   "cell_type": "code",
   "execution_count": 8,
   "metadata": {
    "collapsed": true
   },
   "outputs": [],
   "source": [
    "Asymm_weakreg = A.T.dot(A) + 0.1 * np.eye(n)"
   ]
  },
  {
   "cell_type": "code",
   "execution_count": 9,
   "metadata": {
    "scrolled": true
   },
   "outputs": [
    {
     "name": "stdout",
     "output_type": "stream",
     "text": [
      "ITERS:  132\n",
      "||(rho * I + A'A)x - b||_2 / sqrt(n): 5.68109585745026e-10\n"
     ]
    }
   ],
   "source": [
    "xcg, iters, res = dcg(Asymm_weakreg, b)\n",
    "print(\"ITERS: {:4}\".format(iters))\n",
    "print(\"||(rho * I + A'A)x - b||_2 / sqrt(n): {}\".format(res / n**0.5))"
   ]
  },
  {
   "cell_type": "code",
   "execution_count": 10,
   "metadata": {
    "collapsed": true
   },
   "outputs": [],
   "source": [
    "Asymm = A.T.dot(A) + np.eye(n)"
   ]
  },
  {
   "cell_type": "code",
   "execution_count": 11,
   "metadata": {},
   "outputs": [
    {
     "name": "stdout",
     "output_type": "stream",
     "text": [
      "ITER:    50\t||Ax -  b||_2: 0.0002016569187775861\n",
      "ITERS:   93\n",
      "||(rho * I + A'A)x - b||_2 / sqrt(n): 4.63327173186293e-10\n"
     ]
    }
   ],
   "source": [
    "xcg, iters, res = dcg(Asymm, b, verbose=1)\n",
    "print(\"ITERS: {:4}\".format(iters))\n",
    "print(\"||(rho * I + A'A)x - b||_2 / sqrt(n): {}\".format(res / n**0.5))"
   ]
  },
  {
   "cell_type": "markdown",
   "metadata": {},
   "source": [
    "# Preconditioning"
   ]
  },
  {
   "cell_type": "code",
   "execution_count": 12,
   "metadata": {},
   "outputs": [
    {
     "name": "stdout",
     "output_type": "stream",
     "text": [
      "ITERS:   93\n",
      "||(rho * I + A'A)x - b||_2 / sqrt(n): 4.63327173186293e-10\n"
     ]
    }
   ],
   "source": [
    "xcg, iters, res = dcg(Asymm, b, preconditioner=np.eye(n))\n",
    "print(\"ITERS: {:4}\".format(iters))\n",
    "print(\"||(rho * I + A'A)x - b||_2 / sqrt(n): {}\".format(res / n**0.5))"
   ]
  },
  {
   "cell_type": "code",
   "execution_count": 13,
   "metadata": {
    "collapsed": true
   },
   "outputs": [],
   "source": [
    "class JacobiPrecond(object):\n",
    "    \"\"\" Build a Jacobi diagonal preconditioner P = inv(diag(A))\n",
    "    \"\"\"\n",
    "    def __init__(self, A_symmetric):\n",
    "        self.d = np.reciprocal(np.diag(A_symmetric))\n",
    "    def dot(self, v):\n",
    "        return self.d * v"
   ]
  },
  {
   "cell_type": "code",
   "execution_count": 14,
   "metadata": {},
   "outputs": [
    {
     "name": "stdout",
     "output_type": "stream",
     "text": [
      "ITERS:   82\n",
      "||(rho * I + A'A)x - b||_2 / sqrt(n): 5.355255222025486e-10\n"
     ]
    }
   ],
   "source": [
    "xcg, iters, res = dcg(Asymm, b, preconditioner=JacobiPrecond(Asymm))\n",
    "print(\"ITERS: {:4}\".format(iters))\n",
    "print(\"||(rho * I + A'A)x - b||_2 / sqrt(n): {}\".format(res / n**0.5))"
   ]
  },
  {
   "cell_type": "markdown",
   "metadata": {
    "collapsed": true
   },
   "source": [
    "## Warm start\n",
    "Let $x_{cg}$ be the solution to $Ax = b$, then set $b_{new} = b + b'$ for some (small) perturbation $b'$, and re-solve the system with and without providing $x_{cg}$ as an initial guess. \n",
    "\n",
    "We also compare the effects of warm starting with those of using a preconditioner."
   ]
  },
  {
   "cell_type": "code",
   "execution_count": 16,
   "metadata": {
    "collapsed": true
   },
   "outputs": [],
   "source": [
    "pct_perturb = 5.\n",
    "perturb = np.random.random(n) - 0.5\n",
    "perturb = (perturb / np.linalg.norm(perturb)) * (pct_perturb / 100.) * np.linalg.norm(b) \n",
    "b_new = b + perturb"
   ]
  },
  {
   "cell_type": "code",
   "execution_count": 17,
   "metadata": {},
   "outputs": [
    {
     "name": "stdout",
     "output_type": "stream",
     "text": [
      "ITERS:   72\n",
      "||(rho * I + A'A)x - b||_2 / sqrt(n): 5.742118667763169e-10\n"
     ]
    }
   ],
   "source": [
    "xwarm, iters, res = dcg(Asymm, b_new, x0=xcg, preconditioner=JacobiPrecond(Asymm))\n",
    "print(\"ITERS: {:4}\".format(iters))\n",
    "print(\"||(rho * I + A'A)x - b||_2 / sqrt(n): {}\".format(res / n**0.5))"
   ]
  },
  {
   "cell_type": "code",
   "execution_count": 18,
   "metadata": {},
   "outputs": [
    {
     "name": "stdout",
     "output_type": "stream",
     "text": [
      "ITERS:   82\n",
      "||(rho * I + A'A)x - b||_2 / sqrt(n): 5.417050277638157e-10\n"
     ]
    }
   ],
   "source": [
    "xcold, iters, res = dcg(Asymm, b_new, preconditioner=JacobiPrecond(Asymm))\n",
    "print(\"ITERS: {:4}\".format(iters))\n",
    "print(\"||(rho * I + A'A)x - b||_2 / sqrt(n): {}\".format(res / n**0.5))"
   ]
  },
  {
   "cell_type": "code",
   "execution_count": 19,
   "metadata": {},
   "outputs": [
    {
     "name": "stdout",
     "output_type": "stream",
     "text": [
      "ITERS:   84\n",
      "||(rho * I + A'A)x - b||_2 / sqrt(n): 5.503911726230131e-10\n"
     ]
    }
   ],
   "source": [
    "xwarm_noprecon, iters, res = dcg(Asymm, b_new, x0=xcg)\n",
    "print(\"ITERS: {:4}\".format(iters))\n",
    "print(\"||(rho * I + A'A)x - b||_2 / sqrt(n): {}\".format(res / n**0.5))"
   ]
  },
  {
   "cell_type": "code",
   "execution_count": 20,
   "metadata": {},
   "outputs": [
    {
     "name": "stdout",
     "output_type": "stream",
     "text": [
      "ITERS:   93\n",
      "||(rho * I + A'A)x - b||_2 / sqrt(n): 5.55860949899645e-10\n"
     ]
    }
   ],
   "source": [
    "xcold_noprecon, iters, res = dcg(Asymm, b_new)\n",
    "print(\"ITERS: {:4}\".format(iters))\n",
    "print(\"||(rho * I + A'A)x - b||_2 / sqrt(n): {}\".format(res / n**0.5))"
   ]
  },
  {
   "cell_type": "markdown",
   "metadata": {},
   "source": [
    "|Conditions                  | Iterations |\n",
    "|:---------------------------|------------|\n",
    "|Cold start                  | 93         |\n",
    "|Cold start + preconditioner | 84         |\n",
    "|Warm start                  | 82         |\n",
    "|Warm start + preconditioner | 72         |"
   ]
  },
  {
   "cell_type": "markdown",
   "metadata": {},
   "source": [
    "## Dask vs. numpy arrays"
   ]
  },
  {
   "cell_type": "code",
   "execution_count": 21,
   "metadata": {
    "collapsed": true
   },
   "outputs": [],
   "source": [
    "c = n/2"
   ]
  },
  {
   "cell_type": "code",
   "execution_count": 22,
   "metadata": {
    "collapsed": true
   },
   "outputs": [],
   "source": [
    "Ad = da.from_array(Asymm, chunks=c)\n",
    "bd = da.from_array(b, chunks=c)"
   ]
  },
  {
   "cell_type": "code",
   "execution_count": 23,
   "metadata": {
    "collapsed": true
   },
   "outputs": [],
   "source": [
    "%lprun -f dcg dcg(Ad, b)"
   ]
  },
  {
   "cell_type": "code",
   "execution_count": 24,
   "metadata": {
    "collapsed": true
   },
   "outputs": [],
   "source": [
    "%lprun -f dcg dcg(Asymm, b)"
   ]
  },
  {
   "cell_type": "markdown",
   "metadata": {},
   "source": [
    "For $A\\in R^{300\\times 300}$, the CG runtime is around 6ms using ``numpy`` arrays. When we switch to ``dask`` arrays, the results (solution $x$, iteration count $k$, and residual $\\|Ax-b\\|_2$) are all the same, but the call now takes around 2s."
   ]
  }
 ],
 "metadata": {
  "kernelspec": {
   "display_name": "Python 2",
   "language": "python",
   "name": "python2"
  },
  "language_info": {
   "codemirror_mode": {
    "name": "ipython",
    "version": 2
   },
   "file_extension": ".py",
   "mimetype": "text/x-python",
   "name": "python",
   "nbconvert_exporter": "python",
   "pygments_lexer": "ipython2",
   "version": "2.7.13"
  }
 },
 "nbformat": 4,
 "nbformat_minor": 2
}
