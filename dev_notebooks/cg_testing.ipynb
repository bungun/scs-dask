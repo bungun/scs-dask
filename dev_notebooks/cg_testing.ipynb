{
 "cells": [
  {
   "cell_type": "code",
   "execution_count": 52,
   "metadata": {
    "collapsed": true
   },
   "outputs": [],
   "source": [
    "import numpy as np\n",
    "import dask\n",
    "import dask.array as da\n",
    "%load_ext line_profiler"
   ]
  },
  {
   "cell_type": "code",
   "execution_count": 67,
   "metadata": {
    "collapsed": true
   },
   "outputs": [],
   "source": [
    "def dcg(A, b, tol=1e-8, maxiter=500, x0=None, preconditioner=None, verbose=0):\n",
    "    \"\"\" Conjugate gradient\n",
    "        \n",
    "        Parameters\n",
    "        ----------\n",
    "        A: array-like\n",
    "        b: array-like\n",
    "        tol: float\n",
    "        \n",
    "        Returns\n",
    "        -------\n",
    "        x: array-like\n",
    "        iters: int\n",
    "        resnorm: float\n",
    "        \n",
    "        Find x such that\n",
    "\n",
    "            Ax = b\n",
    "        \n",
    "        for square, symmetric A.\n",
    "\n",
    "        If a preconditioner M is provided, solve the left-preconditioned\n",
    "        equivalent problem,\n",
    "\n",
    "            M(Ax - b) = 0\n",
    "    \"\"\"\n",
    "    print_iter = max(1, maxiter / 10**verbose)\n",
    "        \n",
    "    A, b, M = dask.persist(A, b, preconditioner)\n",
    "\n",
    "    if x0 is None:\n",
    "        r = 1 * b\n",
    "        x = 0 * b\n",
    "    else:\n",
    "        r = 1 * b - A.dot(x0)\n",
    "        x = x0\n",
    "        \n",
    "    Mr = r if M is None else M.dot(r)\n",
    "    p = Mr\n",
    "    resnrm2 = r.dot(Mr)\n",
    "            \n",
    "    x, r, p, resnrm2 = dask.persist(x, r, p, resnrm2)\n",
    "    (resnrm2,) = dask.compute(resnrm2)\n",
    "    if resnrm2**0.5 < tol:\n",
    "        return x, 0, resnrm2**0.5\n",
    "    \n",
    "    for k in range(maxiter):\n",
    "        ox, ores, op, oresnrm2 = x, r, p, resnrm2\n",
    "\n",
    "        Ap = A.dot(p)\n",
    "        alpha = resnrm2 / p.dot(Ap)\n",
    "        x = ox + alpha * p\n",
    "        r = ores - alpha * Ap\n",
    "        Mr = r if M is None else M.dot(r)\n",
    "        resnrm2 = r.dot(Mr)\n",
    "        \n",
    "        x, r, resnrm2 = dask.persist(x, r, resnrm2)\n",
    "        (resnrm2,) = dask.compute(resnrm2)\n",
    "        \n",
    "        if resnrm2**0.5 < tol:\n",
    "            break\n",
    "        elif (k + 1) % print_iter == 0:\n",
    "            print(\"ITER: {:5}\\t||Ax -  b||_2: {}\".format(k + 1, resnrm2**0.5))\n",
    "\n",
    "        p = Mr + (resnrm2 / oresnrm2) * op\n",
    "        x, r, resnrm2, p= dask.persist(x, r, resnrm2, p)\n",
    "\n",
    "        (p,) = dask.persist(p)\n",
    "            \n",
    "    return x, k + 1, resnrm2**0.5 "
   ]
  },
  {
   "cell_type": "code",
   "execution_count": 18,
   "metadata": {
    "collapsed": true
   },
   "outputs": [],
   "source": [
    "m = 400\n",
    "n = 300\n",
    "mc = 100\n",
    "nc = 100"
   ]
  },
  {
   "cell_type": "code",
   "execution_count": 19,
   "metadata": {
    "collapsed": true
   },
   "outputs": [],
   "source": [
    "A = np.random.random((m, n))\n",
    "x = np.random.random(n)\n",
    "b = np.random.random(n)\n",
    "rho = 1."
   ]
  },
  {
   "cell_type": "code",
   "execution_count": 20,
   "metadata": {
    "collapsed": true
   },
   "outputs": [],
   "source": [
    "Asymm_unregularized = A.T.dot(A)"
   ]
  },
  {
   "cell_type": "code",
   "execution_count": 26,
   "metadata": {
    "collapsed": false
   },
   "outputs": [
    {
     "name": "stdout",
     "output_type": "stream",
     "text": [
      "ITER:     5\t||Ax -  b||_2: 2.3489558193104463\n",
      "ITER:    10\t||Ax -  b||_2: 1.341780725236021\n",
      "ITER:    15\t||Ax -  b||_2: 0.6957766291123976\n",
      "ITER:    20\t||Ax -  b||_2: 0.40292975749993964\n",
      "ITER:    25\t||Ax -  b||_2: 1.0675210587298722\n",
      "ITER:    30\t||Ax -  b||_2: 0.15369097940349047\n",
      "ITER:    35\t||Ax -  b||_2: 0.06487400113382467\n",
      "ITER:    40\t||Ax -  b||_2: 0.03407526384964162\n",
      "ITER:    45\t||Ax -  b||_2: 0.01621768783646738\n",
      "ITER:    50\t||Ax -  b||_2: 0.008922389927080906\n",
      "ITER:    55\t||Ax -  b||_2: 0.004461073554402745\n",
      "ITER:    60\t||Ax -  b||_2: 0.0024406219730122684\n",
      "ITER:    65\t||Ax -  b||_2: 0.017398720176550635\n",
      "ITER:    70\t||Ax -  b||_2: 0.0006825204855129539\n",
      "ITER:    75\t||Ax -  b||_2: 0.00026378477422641587\n",
      "ITER:    80\t||Ax -  b||_2: 0.0001319352201061976\n",
      "ITER:    85\t||Ax -  b||_2: 7.08414252391683e-05\n",
      "ITER:    90\t||Ax -  b||_2: 3.081490595557912e-05\n",
      "ITER:    95\t||Ax -  b||_2: 1.4089639810193372e-05\n",
      "ITER:   100\t||Ax -  b||_2: 6.331693747459421e-06\n",
      "ITER:   105\t||Ax -  b||_2: 3.5050873136593183e-06\n",
      "ITER:   110\t||Ax -  b||_2: 1.275009111392987e-05\n",
      "ITER:   115\t||Ax -  b||_2: 8.19829590504431e-07\n",
      "ITER:   120\t||Ax -  b||_2: 4.1076113236973606e-07\n",
      "ITER:   125\t||Ax -  b||_2: 3.12497941920612e-07\n",
      "ITER:   130\t||Ax -  b||_2: 1.319481330734313e-07\n",
      "ITER:   135\t||Ax -  b||_2: 4.78908352289539e-08\n",
      "ITER:   140\t||Ax -  b||_2: 2.3511160365826e-08\n",
      "ITER:   145\t||Ax -  b||_2: 1.0570965616319747e-08\n",
      "ITERS:  146\n",
      "||(rho * I + A'A)x - b||_2 / sqrt(n): 5.2101991271503e-10\n"
     ]
    }
   ],
   "source": [
    "xcg, iters, res = dcg(Asymm_unregularized, b, verbose=2)\n",
    "print(\"ITERS: {:4}\".format(iters))\n",
    "print(\"||(rho * I + A'A)x - b||_2 / sqrt(n): {}\".format(res / n**0.5))"
   ]
  },
  {
   "cell_type": "code",
   "execution_count": 27,
   "metadata": {
    "collapsed": true
   },
   "outputs": [],
   "source": [
    "Asymm_weakreg = A.T.dot(A) + 0.1 * np.eye(n)"
   ]
  },
  {
   "cell_type": "code",
   "execution_count": 28,
   "metadata": {
    "collapsed": false,
    "scrolled": true
   },
   "outputs": [
    {
     "name": "stdout",
     "output_type": "stream",
     "text": [
      "ITERS:  137\n",
      "||(rho * I + A'A)x - b||_2 / sqrt(n): 5.363916371989383e-10\n"
     ]
    }
   ],
   "source": [
    "xcg, iters, res = dcg(Asymm_weakreg, b)\n",
    "print(\"ITERS: {:4}\".format(iters))\n",
    "print(\"||(rho * I + A'A)x - b||_2 / sqrt(n): {}\".format(res / n**0.5))"
   ]
  },
  {
   "cell_type": "code",
   "execution_count": 29,
   "metadata": {
    "collapsed": true
   },
   "outputs": [],
   "source": [
    "Asymm = A.T.dot(A) + np.eye(n)"
   ]
  },
  {
   "cell_type": "code",
   "execution_count": 30,
   "metadata": {
    "collapsed": false
   },
   "outputs": [
    {
     "name": "stdout",
     "output_type": "stream",
     "text": [
      "ITER:    50\t||Ax -  b||_2: 0.0002859816929092584\n",
      "ITERS:   95\n",
      "||(rho * I + A'A)x - b||_2 / sqrt(n): 4.647475130418556e-10\n"
     ]
    }
   ],
   "source": [
    "xcg, iters, res = dcg(Asymm, b, verbose=1)\n",
    "print(\"ITERS: {:4}\".format(iters))\n",
    "print(\"||(rho * I + A'A)x - b||_2 / sqrt(n): {}\".format(res / n**0.5))"
   ]
  },
  {
   "cell_type": "code",
   "execution_count": 31,
   "metadata": {
    "collapsed": false
   },
   "outputs": [
    {
     "name": "stdout",
     "output_type": "stream",
     "text": [
      "ITERS:   95\n",
      "||(rho * I + A'A)x - b||_2 / sqrt(n): 4.647475130418556e-10\n"
     ]
    }
   ],
   "source": [
    "xcg, iters, res = dcg(Asymm, b, preconditioner=np.eye(n))\n",
    "print(\"ITERS: {:4}\".format(iters))\n",
    "print(\"||(rho * I + A'A)x - b||_2 / sqrt(n): {}\".format(res / n**0.5))"
   ]
  },
  {
   "cell_type": "code",
   "execution_count": 33,
   "metadata": {
    "collapsed": true
   },
   "outputs": [],
   "source": [
    "class JacobiPrecond(object):\n",
    "    \"\"\" Build a Jacobi diagonal preconditioner P = inv(diag(A))\n",
    "    \"\"\"\n",
    "    def __init__(self, A_symmetric):\n",
    "        self.d = np.reciprocal(np.diag(A_symmetric))\n",
    "    def dot(self, v):\n",
    "        return self.d * v"
   ]
  },
  {
   "cell_type": "code",
   "execution_count": 66,
   "metadata": {
    "collapsed": false
   },
   "outputs": [
    {
     "name": "stdout",
     "output_type": "stream",
     "text": [
      "TYPE BEFORE PERSIST <class 'numpy.float64'>\n",
      "TYPE AFTER PERSIST <class 'numpy.float64'>\n",
      "ITERS:   84\n",
      "||(rho * I + A'A)x - b||_2 / sqrt(n): 4.767819726779389e-10\n"
     ]
    }
   ],
   "source": [
    "xcg, iters, res = dcg(Asymm, b, preconditioner=JacobiPrecond(Asymm))\n",
    "print(\"ITERS: {:4}\".format(iters))\n",
    "print(\"||(rho * I + A'A)x - b||_2 / sqrt(n): {}\".format(res / n**0.5))"
   ]
  },
  {
   "cell_type": "code",
   "execution_count": 35,
   "metadata": {
    "collapsed": true
   },
   "outputs": [],
   "source": [
    "## WARMSTART"
   ]
  },
  {
   "cell_type": "code",
   "execution_count": 36,
   "metadata": {
    "collapsed": true
   },
   "outputs": [],
   "source": [
    "pct_perturb = 5.\n",
    "perturb = np.random.random(n) - 0.5\n",
    "perturb = (perturb / np.linalg.norm(perturb)) * (pct_perturb / 100.) * np.linalg.norm(b) \n",
    "b_new = b + perturb"
   ]
  },
  {
   "cell_type": "code",
   "execution_count": 37,
   "metadata": {
    "collapsed": false
   },
   "outputs": [
    {
     "name": "stdout",
     "output_type": "stream",
     "text": [
      "ITERS:   75\n",
      "||(rho * I + A'A)x - b||_2 / sqrt(n): 5.739212271192919e-10\n"
     ]
    }
   ],
   "source": [
    "xwarm, iters, res = dcg(Asymm, b_new, x0=xcg, preconditioner=JacobiPrecond(Asymm))\n",
    "print(\"ITERS: {:4}\".format(iters))\n",
    "print(\"||(rho * I + A'A)x - b||_2 / sqrt(n): {}\".format(res / n**0.5))"
   ]
  },
  {
   "cell_type": "code",
   "execution_count": 38,
   "metadata": {
    "collapsed": false
   },
   "outputs": [
    {
     "name": "stdout",
     "output_type": "stream",
     "text": [
      "ITERS:   85\n",
      "||(rho * I + A'A)x - b||_2 / sqrt(n): 4.688996932499014e-10\n"
     ]
    }
   ],
   "source": [
    "xcold, iters, res = dcg(Asymm, b_new, preconditioner=JacobiPrecond(Asymm))\n",
    "print(\"ITERS: {:4}\".format(iters))\n",
    "print(\"||(rho * I + A'A)x - b||_2 / sqrt(n): {}\".format(res / n**0.5))"
   ]
  },
  {
   "cell_type": "code",
   "execution_count": 39,
   "metadata": {
    "collapsed": false
   },
   "outputs": [
    {
     "name": "stdout",
     "output_type": "stream",
     "text": [
      "ITERS:   87\n",
      "||(rho * I + A'A)x - b||_2 / sqrt(n): 5.347839043461314e-10\n"
     ]
    }
   ],
   "source": [
    "xwarm_noprecon, iters, res = dcg(Asymm, b_new, x0=xcg)\n",
    "print(\"ITERS: {:4}\".format(iters))\n",
    "print(\"||(rho * I + A'A)x - b||_2 / sqrt(n): {}\".format(res / n**0.5))"
   ]
  },
  {
   "cell_type": "code",
   "execution_count": 40,
   "metadata": {
    "collapsed": false
   },
   "outputs": [
    {
     "name": "stdout",
     "output_type": "stream",
     "text": [
      "ITERS:   96\n",
      "||(rho * I + A'A)x - b||_2 / sqrt(n): 5.382232368346334e-10\n"
     ]
    }
   ],
   "source": [
    "xcold_noprecon, iters, res = dcg(Asymm, b_new)\n",
    "print(\"ITERS: {:4}\".format(iters))\n",
    "print(\"||(rho * I + A'A)x - b||_2 / sqrt(n): {}\".format(res / n**0.5))"
   ]
  },
  {
   "cell_type": "code",
   "execution_count": 49,
   "metadata": {
    "collapsed": true
   },
   "outputs": [],
   "source": [
    "Ad = da.from_array(Asymm, chunks=150)"
   ]
  },
  {
   "cell_type": "code",
   "execution_count": 61,
   "metadata": {
    "collapsed": true
   },
   "outputs": [],
   "source": [
    "%lprun -f dcg dcg(Ad, b)"
   ]
  },
  {
   "cell_type": "code",
   "execution_count": 64,
   "metadata": {
    "collapsed": true
   },
   "outputs": [],
   "source": [
    "%lprun -f dcg dcg(Asymm, b)"
   ]
  },
  {
   "cell_type": "code",
   "execution_count": null,
   "metadata": {
    "collapsed": true
   },
   "outputs": [],
   "source": [
    "mlg = 40000\n",
    "nlg = 30000\n",
    "Alg = np.random.random((mlg, nlg))\n",
    "Aslg = Alg.T.dot(Alg) + np.eye(nlg)\n",
    "blg = np.random.random(nlg)\n",
    "Adlg = da.from_array(Aslg, chunks=nlg)"
   ]
  },
  {
   "cell_type": "code",
   "execution_count": 51,
   "metadata": {
    "collapsed": true
   },
   "outputs": [],
   "source": []
  },
  {
   "cell_type": "code",
   "execution_count": null,
   "metadata": {
    "collapsed": true
   },
   "outputs": [],
   "source": []
  }
 ],
 "metadata": {
  "kernelspec": {
   "display_name": "Python 2",
   "language": "python",
   "name": "python2"
  },
  "language_info": {
   "codemirror_mode": {
    "name": "ipython",
    "version": 2
   },
   "file_extension": ".py",
   "mimetype": "text/x-python",
   "name": "python",
   "nbconvert_exporter": "python",
   "pygments_lexer": "ipython2",
   "version": "2.7.11"
  }
 },
 "nbformat": 4,
 "nbformat_minor": 2
}
