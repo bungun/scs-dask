{
 "cells": [
  {
   "cell_type": "code",
   "execution_count": 1,
   "metadata": {
    "collapsed": true
   },
   "outputs": [],
   "source": [
    "import dask\n",
    "import dask.array as da\n",
    "import numpy as np\n",
    "import operator"
   ]
  },
  {
   "cell_type": "markdown",
   "metadata": {},
   "source": [
    "### inputs"
   ]
  },
  {
   "cell_type": "code",
   "execution_count": 2,
   "metadata": {
    "collapsed": true
   },
   "outputs": [],
   "source": [
    "m = 1000\n",
    "mc = 100"
   ]
  },
  {
   "cell_type": "code",
   "execution_count": 3,
   "metadata": {
    "collapsed": true
   },
   "outputs": [],
   "source": [
    "A = da.random.normal(0, 1, (m,m), chunks=mc)\n",
    "b = da.random.normal(0, 1./m, m, chunks=mc)\n",
    "x0 = None\n",
    "M = None\n",
    "name = None"
   ]
  },
  {
   "cell_type": "markdown",
   "metadata": {},
   "source": [
    "### before iteration"
   ]
  },
  {
   "cell_type": "code",
   "execution_count": 4,
   "metadata": {},
   "outputs": [],
   "source": [
    "def block_cg_initialize(A, b, M, x0, name=None):\n",
    "    token = name or dask.base.tokenize(A)\n",
    "    itertoken = 'cg-iter-0-' + token\n",
    "    nblks_1d = (len(b.chunks[0]),)\n",
    "    nblks_2d = len(A.chunks[0]), len(A.chunks[1])\n",
    "  \n",
    "    # TODO: rechunk x0?\n",
    "\n",
    "    _r = 'r-' + itertoken\n",
    "    _x = 'x-' + itertoken\n",
    "    _Ax = 'Ax-' + itertoken\n",
    "    _p = 'p-' + itertoken\n",
    "    _Mr = 'Mr-' + itertoken\n",
    "    _resnrm2 = 'resnrm2-' + itertoken\n",
    "    \n",
    "    if x0 is None:\n",
    "        dsk_r = da.core.top(lambda bi: bi, _r, 'i', b.name, 'i', \n",
    "                            numblocks={b.name: nblks_1d})\n",
    "        dsk_x = da.core.top(lambda ri: 0 * ri, _x, 'i', _r, 'i', \n",
    "                            numblocks={_r: nblks_1d})\n",
    "        dsk_Ax = None\n",
    "    else:\n",
    "        dsk_x = da.core.top(lambda x0i: x0i, _x, 'i', x0.name, 'i', \n",
    "                            numblocks={x0.name: nblks_1d})\n",
    "        dsk_Ax = da.core.top(da.core.dotmany, _Ax, 'i', A.name, 'ij', _x, 'j', \n",
    "                             numblocks={A.name: nblks_2d, _x: nblks_1d})\n",
    "        dsk_r = da.core.top(operator.sub, _r, 'i', b.name, 'i', _Ax, 'i',\n",
    "                            numblocks={b.name: nblks_1d, _Ax: nblks_1d})\n",
    "        \n",
    "    if M is None:\n",
    "        dsk_Mr = {(_Mr, key[1]): dsk_r[_r, key[1]] for key in dsk_r}\n",
    "    else:\n",
    "        raise NotImplementedError\n",
    "    \n",
    "    dsk_p = {(_p, key[1]): dsk_Mr[_Mr, key[1]] for key in dsk_Mr}\n",
    "    dsk_resnrm2 = da.core.top(da.core.dotmany, _resnrm2, '', _r, 'i', _Mr, 'i',\n",
    "                              numblocks={_r: nblks_1d, _Mr: nblks_1d})\n",
    "\n",
    "\n",
    "    dsk = dask.sharedict.merge(A.dask, b.dask)\n",
    "    dsk.update_with_key(dsk_x, _x)\n",
    "    if dsk_Ax is not None:\n",
    "        dsk.update_with_key(dsk_Ax, _Ax)\n",
    "    dsk.update_with_key(dsk_r, _r)\n",
    "    dsk.update_with_key(dsk_Mr, _Mr)\n",
    "    dsk.update_with_key(dsk_p, _p)\n",
    "    dsk.update_with_key(dsk_resnrm2, _resnrm2)\n",
    "\n",
    "    x = da.Array(dsk, _x, shape=b.shape, chunks=b.chunks, dtype=b.dtype)\n",
    "    r = da.Array(dsk, _r, shape=b.shape, chunks=b.chunks, dtype=b.dtype)\n",
    "    p = da.Array(dsk, _p, shape=b.shape, chunks=b.chunks, dtype=b.dtype)\n",
    "    resnrm2 = da.Array(dsk, _resnrm2, shape=(), chunks=(), dtype=b.dtype)\n",
    "    x, r, p, resnrm2 = dask.persist(x, r, p, resnrm2)\n",
    "    return dsk, x, resnrm2"
   ]
  },
  {
   "cell_type": "markdown",
   "metadata": {},
   "source": [
    "### iteration"
   ]
  },
  {
   "cell_type": "code",
   "execution_count": 25,
   "metadata": {},
   "outputs": [],
   "source": [
    "def block_cg_iterate(dsk, A, M, iteration, name=None):\n",
    "    m, _ = A.shape\n",
    "    chunks_1d = (A.chunks[1],)\n",
    "    nblks_2d = vblocks, hblocks = len(A.chunks[0]), len(A.chunks[1])\n",
    "    nblks_1d = (vblocks,)\n",
    "\n",
    "    token = name or dask.base.tokenize(A)\n",
    "    itertoken = 'cg-iter-' + str(iteration) + '-' + token\n",
    "    oitertoken = 'cg-iter-' + str(iteration - 1) + '-' + token\n",
    "\n",
    "    _Ap = 'Ap-' + itertoken\n",
    "    _alpha = 'alpha-' + itertoken\n",
    "    _beta = 'beta-' + itertoken\n",
    "    _gamma = 'gamma-' + itertoken\n",
    "    _x = 'x-' + itertoken\n",
    "    _ox = 'x-' + oitertoken\n",
    "    _r = 'r-' + itertoken\n",
    "    _or = 'r-' + oitertoken\n",
    "    _p = 'p-' + itertoken\n",
    "    _op = 'p-' + oitertoken\n",
    "    _Mr = 'Mr-' + itertoken\n",
    "    _resnrm2 = 'resnrm2-' + itertoken\n",
    "    _oresnrm2 = 'resnrm2-' + oitertoken\n",
    "\n",
    "    # alpha = oresnrm2 / p.dot(Ap)\n",
    "    dsk_Ap = da.core.top(da.core.dotmany, _Ap, 'i', A.name, 'ij', _op, 'j',\n",
    "                         numblocks={A.name: nblks_2d, _op: nblks_1d})\n",
    "    dsk_gamma = da.core.top(da.core.dotmany, _gamma, '', _op, 'i', _Ap, 'i', \n",
    "                            numblocks={_op: nblks_1d, _Ap: nblks_1d})\n",
    "    dsk_alpha = da.core.top(operator.div, _alpha, '', _oresnrm2, '', _gamma, '',\n",
    "                            numblocks={_oresnrm2: (), _gamma: ()})\n",
    "\n",
    "    # x = ox + alpha * p\n",
    "    def update_x(xi, pi, alpha): return xi + alpha * pi\n",
    "    dsk_x = da.core.top(update_x, _x, 'i', _ox, 'i', _op, 'i', _alpha, '',\n",
    "                        numblocks={_ox: nblks_1d, _op: nblks_1d, _alpha: ()})\n",
    "\n",
    "    # r = or - alpha * Ap\n",
    "    def update_r(ri, Api, alpha): return ri - alpha * Api\n",
    "    dsk_r = da.core.top(update_r, _r, 'i', _or, 'i', _op, 'i', _alpha, '',\n",
    "                        numblocks={_or: nblks_1d, _op: nblks_1d, _alpha: ()})\n",
    "\n",
    "    # resnrm2 = r'Mr\n",
    "    if M is None:\n",
    "        dsk_Mr = {(_Mr, rkey[1]): dsk_r[_r, rkey[1]] for rkey in dsk_r}\n",
    "    else:\n",
    "        raise NotImplementedError\n",
    "\n",
    "    dsk_resnrm2 = da.core.top(da.core.dotmany, _resnrm2, '', _r, 'i', _Mr, 'i',\n",
    "                              numblocks={_r: nblks_1d, _Mr: nblks_1d})\n",
    "\n",
    "    # p = Mr + (resnrm2 / oresnrm2) * op\n",
    "    dsk_beta = da.core.top(operator.div, _beta, '', _resnrm2, '', _oresnrm2, '',\n",
    "                           numblocks={ _resnrm2: (), _oresnrm2: ()})\n",
    "    def update_p(Mri, pi, beta): return Mri + beta * pi\n",
    "    dsk_p = da.core.top(update_p, _p, 'i', _Mr, 'i', _op, 'i', _beta, '',\n",
    "                          numblocks={_Mr: nblks_1d, _op: nblks_1d, _beta: ()})\n",
    "\n",
    "    dsk = dask.sharedict.merge(dsk, A.dask)\n",
    "    dsk.update_with_key(dsk_Ap, key=_Ap)\n",
    "    dsk.update_with_key(dsk_gamma, key=_gamma)\n",
    "    dsk.update_with_key(dsk_alpha, key=_alpha)\n",
    "    dsk.update_with_key(dsk_x, key=_x)\n",
    "    dsk.update_with_key(dsk_r, key=_r)    \n",
    "    dsk.update_with_key(dsk_Mr, key=_Mr)\n",
    "    dsk.update_with_key(dsk_resnrm2, key=_resnrm2)\n",
    "    dsk.update_with_key(dsk_beta, key=_beta)\n",
    "    dsk.update_with_key(dsk_p, key=_p)\n",
    "\n",
    "    x = da.Array(dsk, _x, shape=(m,), chunks=chunks_1d, dtype=A.dtype)\n",
    "    r = da.Array(dsk, _r, shape=(m,), chunks=chunks_1d, dtype=A.dtype)\n",
    "    p = da.Array(dsk, _p, shape=(m,), chunks=chunks_1d, dtype=A.dtype)\n",
    "    resnrm2 = da.Array(dsk, _resnrm2, shape=(), chunks=(), dtype=A.dtype)\n",
    "    x, r, p, resnrm2 = dask.persist(x, r, p, resnrm2)\n",
    "    dsk = dask.sharedict.merge(x.dask, r.dask, p.dask, resnrm2.dask) # prune all but state vars from dictionary\n",
    "    return dsk, x, resnrm2"
   ]
  },
  {
   "cell_type": "code",
   "execution_count": 26,
   "metadata": {
    "collapsed": true
   },
   "outputs": [],
   "source": [
    "dsk, x, resnrm2 = block_cg_initialize(A, b, M, x0)"
   ]
  },
  {
   "cell_type": "code",
   "execution_count": 27,
   "metadata": {},
   "outputs": [],
   "source": [
    "dsk, x, resnrm2 = block_cg_iterate(dsk, A, M, 1)"
   ]
  },
  {
   "cell_type": "code",
   "execution_count": 28,
   "metadata": {},
   "outputs": [
    {
     "data": {
      "text/plain": [
       "(0.00012719458495403515,)"
      ]
     },
     "execution_count": 28,
     "metadata": {},
     "output_type": "execute_result"
    }
   ],
   "source": [
    "dask.compute(resnrm2)"
   ]
  },
  {
   "cell_type": "code",
   "execution_count": 29,
   "metadata": {
    "collapsed": true
   },
   "outputs": [],
   "source": [
    "tol = 1e-8"
   ]
  },
  {
   "cell_type": "code",
   "execution_count": 30,
   "metadata": {
    "collapsed": true
   },
   "outputs": [],
   "source": [
    "dsk, x, resnrm2 = block_cg_initialize(A, b, M, x0, name=name)\n",
    "(resnrm2,) = dask.compute(resnrm2)\n",
    "if resnrm2**0.5 < tol:\n",
    "    print \"OK AT INIT\"\n",
    "#     return x, 0, resnrm2**0.5"
   ]
  },
  {
   "cell_type": "code",
   "execution_count": 31,
   "metadata": {
    "collapsed": true
   },
   "outputs": [],
   "source": [
    "print_iter = 1\n",
    "maxiter = 100"
   ]
  },
  {
   "cell_type": "code",
   "execution_count": 32,
   "metadata": {},
   "outputs": [
    {
     "name": "stdout",
     "output_type": "stream",
     "text": [
      "ITER:     1\t||Ax - b||_2: 0.0112780576765\n",
      "ITER:     2\t||Ax - b||_2: 0.00578599834704\n",
      "ITER:     3\t||Ax - b||_2: 0.00354360763911\n",
      "ITER:     4\t||Ax - b||_2: 0.00240309899525\n",
      "ITER:     5\t||Ax - b||_2: 0.00174178087361\n",
      "ITER:     6\t||Ax - b||_2: 0.00132314012372\n",
      "ITER:     7\t||Ax - b||_2: 0.00104085954468\n",
      "ITER:     8\t||Ax - b||_2: 0.000841234881693\n",
      "ITER:     9\t||Ax - b||_2: 0.00069469980997\n",
      "ITER:    10\t||Ax - b||_2: 0.000583860029814\n",
      "ITER:    11\t||Ax - b||_2: 0.00049792703754\n",
      "ITER:    12\t||Ax - b||_2: 0.000429914665095\n",
      "ITER:    13\t||Ax - b||_2: 0.000375133704427\n",
      "ITER:    14\t||Ax - b||_2: 0.000330339722127\n",
      "ITER:    15\t||Ax - b||_2: 0.000293228759886\n",
      "ITER:    16\t||Ax - b||_2: 0.000262127401979\n",
      "ITER:    17\t||Ax - b||_2: 0.000235795976023\n",
      "ITER:    18\t||Ax - b||_2: 0.000213299980297\n",
      "ITER:    19\t||Ax - b||_2: 0.00019392395189\n",
      "ITER:    20\t||Ax - b||_2: 0.000177112467965\n",
      "ITER:    21\t||Ax - b||_2: 0.000162428921045\n",
      "ITER:    22\t||Ax - b||_2: 0.000149526194031\n",
      "ITER:    23\t||Ax - b||_2: 0.000138125460052\n",
      "ITER:    24\t||Ax - b||_2: 0.000128000629268\n",
      "ITER:    25\t||Ax - b||_2: 0.000118966784468\n",
      "ITER:    26\t||Ax - b||_2: 0.000110871476176\n",
      "ITER:    27\t||Ax - b||_2: 0.000103588095729\n",
      "ITER:    28\t||Ax - b||_2: 9.70107773614e-05\n",
      "ITER:    29\t||Ax - b||_2: 9.10504384596e-05\n",
      "ITER:    30\t||Ax - b||_2: 8.56316761565e-05\n",
      "ITER:    31\t||Ax - b||_2: 8.06903146712e-05\n",
      "ITER:    32\t||Ax - b||_2: 7.6171451771e-05\n",
      "ITER:    33\t||Ax - b||_2: 7.20278913912e-05\n",
      "ITER:    34\t||Ax - b||_2: 6.82188774491e-05\n",
      "ITER:    35\t||Ax - b||_2: 6.47090643805e-05\n",
      "ITER:    36\t||Ax - b||_2: 6.14676750622e-05\n",
      "ITER:    37\t||Ax - b||_2: 5.84678080717e-05\n",
      "ITER:    38\t||Ax - b||_2: 5.56858647217e-05\n",
      "ITER:    39\t||Ax - b||_2: 5.31010727372e-05\n",
      "ITER:    40\t||Ax - b||_2: 5.06950883567e-05\n",
      "ITER:    41\t||Ax - b||_2: 4.84516624199e-05\n",
      "ITER:    42\t||Ax - b||_2: 4.63563589267e-05\n",
      "ITER:    43\t||Ax - b||_2: 4.43963168384e-05\n",
      "ITER:    44\t||Ax - b||_2: 4.25600476801e-05\n",
      "ITER:    45\t||Ax - b||_2: 4.08372629134e-05\n",
      "ITER:    46\t||Ax - b||_2: 3.92187261718e-05\n",
      "ITER:    47\t||Ax - b||_2: 3.76961263417e-05\n",
      "ITER:    48\t||Ax - b||_2: 3.62619681899e-05\n",
      "ITER:    49\t||Ax - b||_2: 3.49094778149e-05\n",
      "ITER:    50\t||Ax - b||_2: 3.36325206655e-05\n",
      "ITER:    51\t||Ax - b||_2: 3.24255302505e-05\n",
      "ITER:    52\t||Ax - b||_2: 3.12834459728e-05\n",
      "ITER:    53\t||Ax - b||_2: 3.02016587752e-05\n",
      "ITER:    54\t||Ax - b||_2: 2.91759634936e-05\n",
      "ITER:    55\t||Ax - b||_2: 2.82025169877e-05\n",
      "ITER:    56\t||Ax - b||_2: 2.72778012595e-05\n",
      "ITER:    57\t||Ax - b||_2: 2.6398590892e-05\n",
      "ITER:    58\t||Ax - b||_2: 2.55619242377e-05\n",
      "ITER:    59\t||Ax - b||_2: 2.47650778708e-05\n",
      "ITER:    60\t||Ax - b||_2: 2.40055438869e-05\n",
      "ITER:    61\t||Ax - b||_2: 2.32810096919e-05\n",
      "ITER:    62\t||Ax - b||_2: 2.2589339973e-05\n",
      "ITER:    63\t||Ax - b||_2: 2.19285605868e-05\n",
      "ITER:    64\t||Ax - b||_2: 2.12968441326e-05\n",
      "ITER:    65\t||Ax - b||_2: 2.06924970149e-05\n",
      "ITER:    66\t||Ax - b||_2: 2.01139478192e-05\n",
      "ITER:    67\t||Ax - b||_2: 1.95597368522e-05\n",
      "ITER:    68\t||Ax - b||_2: 1.90285067141e-05\n",
      "ITER:    69\t||Ax - b||_2: 1.85189937886e-05\n",
      "ITER:    70\t||Ax - b||_2: 1.80300205485e-05\n",
      "ITER:    71\t||Ax - b||_2: 1.75604885906e-05\n",
      "ITER:    72\t||Ax - b||_2: 1.71093723199e-05\n",
      "ITER:    73\t||Ax - b||_2: 1.6675713216e-05\n",
      "ITER:    74\t||Ax - b||_2: 1.625861462e-05\n",
      "ITER:    75\t||Ax - b||_2: 1.58572369902e-05\n",
      "ITER:    76\t||Ax - b||_2: 1.54707935766e-05\n",
      "ITER:    77\t||Ax - b||_2: 1.50985464744e-05\n",
      "ITER:    78\t||Ax - b||_2: 1.47398030185e-05\n",
      "ITER:    79\t||Ax - b||_2: 1.43939124842e-05\n",
      "ITER:    80\t||Ax - b||_2: 1.40602630675e-05\n",
      "ITER:    81\t||Ax - b||_2: 1.3738279115e-05\n",
      "ITER:    82\t||Ax - b||_2: 1.3427418583e-05\n",
      "ITER:    83\t||Ax - b||_2: 1.31271707021e-05\n",
      "ITER:    84\t||Ax - b||_2: 1.28370538297e-05\n",
      "ITER:    85\t||Ax - b||_2: 1.25566134732e-05\n",
      "ITER:    86\t||Ax - b||_2: 1.22854204677e-05\n",
      "ITER:    87\t||Ax - b||_2: 1.2023069296e-05\n",
      "ITER:    88\t||Ax - b||_2: 1.17691765366e-05\n",
      "ITER:    89\t||Ax - b||_2: 1.15233794301e-05\n",
      "ITER:    90\t||Ax - b||_2: 1.12853345531e-05\n",
      "ITER:    91\t||Ax - b||_2: 1.10547165903e-05\n",
      "ITER:    92\t||Ax - b||_2: 1.08312171973e-05\n",
      "ITER:    93\t||Ax - b||_2: 1.06145439454e-05\n",
      "ITER:    94\t||Ax - b||_2: 1.04044193429e-05\n",
      "ITER:    95\t||Ax - b||_2: 1.0200579926e-05\n",
      "ITER:    96\t||Ax - b||_2: 1.00027754132e-05\n",
      "ITER:    97\t||Ax - b||_2: 9.81076791957e-06\n",
      "ITER:    98\t||Ax - b||_2: 9.62433122441e-06\n",
      "ITER:    99\t||Ax - b||_2: 9.44325008962e-06\n",
      "ITER:   100\t||Ax - b||_2: 9.26731962388e-06\n"
     ]
    }
   ],
   "source": [
    "for k in range(1, maxiter + 1):\n",
    "    dsk, x, resnrm2 = block_cg_iterate(dsk, A, M, k, name=name)\n",
    "    (resnrm2,) = dask.compute(resnrm2)\n",
    "    if resnrm2**0.5 < tol:\n",
    "        break\n",
    "    elif k % print_iter == 0:\n",
    "        print('ITER: {:5}\\t||Ax - b||_2: {}'.format(k, resnrm2**0.5))"
   ]
  },
  {
   "cell_type": "code",
   "execution_count": null,
   "metadata": {
    "collapsed": true
   },
   "outputs": [],
   "source": []
  },
  {
   "cell_type": "code",
   "execution_count": null,
   "metadata": {
    "collapsed": true
   },
   "outputs": [],
   "source": []
  },
  {
   "cell_type": "code",
   "execution_count": null,
   "metadata": {
    "collapsed": true
   },
   "outputs": [],
   "source": []
  }
 ],
 "metadata": {
  "kernelspec": {
   "display_name": "Python 2",
   "language": "python",
   "name": "python2"
  },
  "language_info": {
   "codemirror_mode": {
    "name": "ipython",
    "version": 2
   },
   "file_extension": ".py",
   "mimetype": "text/x-python",
   "name": "python",
   "nbconvert_exporter": "python",
   "pygments_lexer": "ipython2",
   "version": "2.7.13"
  }
 },
 "nbformat": 4,
 "nbformat_minor": 2
}
