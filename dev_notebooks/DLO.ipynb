{
 "cells": [
  {
   "cell_type": "code",
   "execution_count": 1,
   "metadata": {
    "collapsed": true
   },
   "outputs": [],
   "source": [
    "\"\"\" Type hierarchy for abstract linear operators\n",
    "\"\"\"\n",
    "class DaskLinearOperator(object):\n",
    "    \"\"\" Base class for abstract :obj:`dask.array.Array`-based linear operators \n",
    "    \"\"\"\n",
    "    def __init__(self, data, name=None):\n",
    "        self._data = data\n",
    "        self._name = 'DLO-' + data.name if name is None else str(name)\n",
    "\n",
    "    @property\n",
    "    def data(self):\n",
    "        return self._data\n",
    "\n",
    "    @property\n",
    "    def name(self):\n",
    "        return self._name\n",
    "\n",
    "    @property\n",
    "    def shape(self):\n",
    "        return self._data.shape\n",
    "\n",
    "    @property\n",
    "    def size(self):\n",
    "        return self._data.size\n",
    "\n",
    "    @property\n",
    "    def chunks(self):\n",
    "        return self._data.chunks\n",
    "\n",
    "    @property\n",
    "    def numblocks(self):\n",
    "        return self._data.numblocks\n",
    "\n",
    "    @property\n",
    "    def dtype(self):\n",
    "        return self._data.dtype"
   ]
  },
  {
   "cell_type": "code",
   "execution_count": 2,
   "metadata": {
    "collapsed": true
   },
   "outputs": [],
   "source": [
    "import dask.array as da\n",
    "A = da.random.random((100, 50), chunks=20)\n",
    "Adlo = DaskLinearOperator(A)"
   ]
  },
  {
   "cell_type": "code",
   "execution_count": 3,
   "metadata": {
    "collapsed": true
   },
   "outputs": [],
   "source": [
    "assert Adlo.size == A.size\n",
    "assert Adlo.shape == A.shape\n",
    "assert Adlo.chunks == A.chunks\n",
    "assert Adlo.numblocks == A.numblocks\n",
    "assert Adlo.dtype == A.dtype\n"
   ]
  },
  {
   "cell_type": "code",
   "execution_count": 4,
   "metadata": {
    "collapsed": true
   },
   "outputs": [],
   "source": [
    "class DLOSymmetric(DaskLinearOperator):\n",
    "    def __init__(self, data, name=None):\n",
    "        name = 'DLO-symmetric-' + data.name if name is None else name\n",
    "        DaskLinearOperator.__init__(self, data, name=name)\n",
    "        assert self.shape[0] == self.shape[0]\n",
    "        assert self.chunks[0] == self.chunks[1]"
   ]
  },
  {
   "cell_type": "code",
   "execution_count": 5,
   "metadata": {},
   "outputs": [
    {
     "name": "stdout",
     "output_type": "stream",
     "text": [
      "fail on dims\n",
      "fail on chunks\n"
     ]
    }
   ],
   "source": [
    "try:\n",
    "    DLOSymmetric(A)\n",
    "except AssertionError:\n",
    "    print 'fail on dims'\n",
    "\n",
    "try:\n",
    "    DLOSymmetric(da.random.random((100, 100), chunks=(10,20)))\n",
    "except AssertionError:\n",
    "    print 'fail on chunks'\n",
    "\n",
    "Asymm = DLOSymmetric(da.random.random((100, 100), chunks=10))\n",
    "assert Asymm.numblocks == (10, 10)"
   ]
  },
  {
   "cell_type": "code",
   "execution_count": 6,
   "metadata": {
    "collapsed": true
   },
   "outputs": [],
   "source": [
    "class DLODense(DaskLinearOperator):\n",
    "    def __init__(self, data, name=None):\n",
    "        name = 'DLO-dense-' + data.name if name is None else name\n",
    "        DaskLinearOperator.__init__(self, data, name=name)"
   ]
  },
  {
   "cell_type": "code",
   "execution_count": 7,
   "metadata": {
    "collapsed": true
   },
   "outputs": [],
   "source": [
    "Adn = DLODense(A)\n",
    "assert Adn.numblocks == A.numblocks"
   ]
  },
  {
   "cell_type": "code",
   "execution_count": 8,
   "metadata": {
    "collapsed": true
   },
   "outputs": [],
   "source": [
    "class DLODiagonal(DLOSymmetric):\n",
    "    def __init__(self, data, name=None):\n",
    "        name = 'DLO-diagonal-' + data.name if name is None else name\n",
    "        DLOSymmetric.__init__(self, data, name=name)\n",
    "\n",
    "    @property\n",
    "    def shape(self):\n",
    "        return self._data.shape[0], self._data.shape[0]\n",
    "\n",
    "    @property\n",
    "    def chunks(self):\n",
    "        return self._data.chunks[0], self._data.chunks[0]\n",
    "\n",
    "    @property\n",
    "    def numblocks(self):\n",
    "        return self._data.numblocks[0], self._data.numblocks[0]"
   ]
  },
  {
   "cell_type": "code",
   "execution_count": 9,
   "metadata": {
    "collapsed": true
   },
   "outputs": [],
   "source": [
    "Adn = DLODiagonal(da.diag(da.random.random((100, 100), chunks=50)))\n",
    "assert Adn.numblocks == (2, 2)\n",
    "assert Adn.data.numblocks == (2,)"
   ]
  },
  {
   "cell_type": "code",
   "execution_count": 10,
   "metadata": {
    "collapsed": true
   },
   "outputs": [],
   "source": [
    "class DLOGram(DLOSymmetric):\n",
    "    def __init__(self, data, name=None):\n",
    "        self.transpose = data.shape[0] < data.shape[1]\n",
    "        self._idx = 1 - int(self.transpose)\n",
    "        name = 'DLO-gram-' + data.name if name is None else name\n",
    "        DLOSymmetric.__init__(self, data, name=name)\n",
    "\n",
    "    @property\n",
    "    def shape(self):\n",
    "        return self._data.shape[self._idx], self._data.shape[self._idx]\n",
    "\n",
    "    @property\n",
    "    def chunks(self):\n",
    "        return self._data.chunks[self._idx], self._data.chunks[self._idx]\n",
    "\n",
    "    @property\n",
    "    def numblocks(self):\n",
    "        return self._data.numblocks[self._idx], self._data.numblocks[self._idx]"
   ]
  },
  {
   "cell_type": "code",
   "execution_count": 11,
   "metadata": {
    "collapsed": true
   },
   "outputs": [],
   "source": [
    "Agm = DLOGram(A)\n",
    "assert Agm.numblocks == (A.numblocks[1], A.numblocks[1])\n",
    "Agm2 = DLOGram(da.transpose(A))\n",
    "assert Agm.shape == Agm2.shape"
   ]
  },
  {
   "cell_type": "code",
   "execution_count": 12,
   "metadata": {},
   "outputs": [],
   "source": [
    "class DLORegularizedGram(DLOGram):\n",
    "    def __init__(self, data, name=None, regularization=1.):\n",
    "        self.regularization = float(regularization)\n",
    "        name = 'DLO-regularized-gram-' + data.name if name is None else name\n",
    "        DLOGram.__init__(self, data, name=name)"
   ]
  },
  {
   "cell_type": "code",
   "execution_count": 13,
   "metadata": {},
   "outputs": [],
   "source": [
    "Agm = DLORegularizedGram(A)\n",
    "assert Agm.regularization == 1"
   ]
  },
  {
   "cell_type": "code",
   "execution_count": null,
   "metadata": {
    "collapsed": true
   },
   "outputs": [],
   "source": []
  }
 ],
 "metadata": {
  "kernelspec": {
   "display_name": "Python 2",
   "language": "python",
   "name": "python2"
  },
  "language_info": {
   "codemirror_mode": {
    "name": "ipython",
    "version": 2
   },
   "file_extension": ".py",
   "mimetype": "text/x-python",
   "name": "python",
   "nbconvert_exporter": "python",
   "pygments_lexer": "ipython2",
   "version": "2.7.13"
  }
 },
 "nbformat": 4,
 "nbformat_minor": 2
}
