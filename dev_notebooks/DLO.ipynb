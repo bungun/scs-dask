{
 "cells": [
  {
   "cell_type": "code",
   "execution_count": 1,
   "metadata": {
    "collapsed": true
   },
   "outputs": [],
   "source": [
    "import abc\n",
    "import six\n",
    "import operator\n",
    "import dask\n",
    "import dask.array as da\n",
    "import dask.base\n",
    "import numpy as np"
   ]
  },
  {
   "cell_type": "code",
   "execution_count": 2,
   "metadata": {},
   "outputs": [],
   "source": [
    "@six.add_metaclass(abc.ABCMeta)\n",
    "class DaskLinearOperator(dask.base.DaskMethodsMixin):\n",
    "    def __init__(self, dsk, keys, shape, chunks, dtype,\n",
    "                 opname='linear-operator'):\n",
    "        self._dsk = dsk\n",
    "        self._keys = keys\n",
    "        self._opname = str(opname) + '-'\n",
    "        self.shape = shape\n",
    "        self.chunks = chunks\n",
    "        self.nblocks = tuple(len(cc) for cc in chunks)\n",
    "        self.dtype = dtype\n",
    "\n",
    "    def __dask_graph__(self):\n",
    "        return self._dsk\n",
    "\n",
    "    def __dask_keys__(self):\n",
    "        return self._keys\n",
    "\n",
    "    @staticmethod\n",
    "    def __dask_optimize__(dsk, keys, **kwargs):\n",
    "        return dsk\n",
    "\n",
    "    # Use the threaded scheduler by default.\n",
    "    __dask_scheduler__ = staticmethod(dask.threaded.get)\n",
    "\n",
    "    def __dask_postcompute__(self):\n",
    "        # We want to return the results as a tuple, so our finalize\n",
    "        # function is `tuple`. There are no extra arguments, so we also\n",
    "        # return an empty tuple.\n",
    "        return dask.array.Array, ()\n",
    "\n",
    "    def __dask_postpersist__(self):\n",
    "        return DaskLinearOperator, (self._keys,)\n",
    "\n",
    "    def __dask_tokenize__(self):\n",
    "        return (self._opname,) + tuple(self._keys)\n",
    "\n",
    "    @abc.abstractmethod\n",
    "    def graph_apply(self, dsk, input_key, output_key, **options):\n",
    "        pass\n"
   ]
  },
  {
   "cell_type": "code",
   "execution_count": 4,
   "metadata": {},
   "outputs": [],
   "source": [
    "@six.add_metaclass(abc.ABCMeta)\n",
    "class DLOSymmetric(DaskLinearOperator):\n",
    "    def __init__(self, dsk, shape, chunks, dtype):\n",
    "        assert shape[0] == shape[0]\n",
    "        assert chunks[0] == chunks[1]\n",
    "        DaskLinearOperator.__init__(self, dsk, shape, chunks, dtype, optype='symmetric-DLO')"
   ]
  },
  {
   "cell_type": "code",
   "execution_count": 5,
   "metadata": {},
   "outputs": [
    {
     "ename": "TypeError",
     "evalue": "Can't instantiate abstract class DLOSymmetric with abstract methods graph_apply",
     "output_type": "error",
     "traceback": [
      "\u001b[0;31m---------------------------------------------------------------------------\u001b[0m",
      "\u001b[0;31mTypeError\u001b[0m                                 Traceback (most recent call last)",
      "\u001b[0;32m<ipython-input-5-9e641e1401ce>\u001b[0m in \u001b[0;36m<module>\u001b[0;34m()\u001b[0m\n\u001b[0;32m----> 1\u001b[0;31m \u001b[0mDLOSymmetric\u001b[0m\u001b[0;34m(\u001b[0m\u001b[0;34m)\u001b[0m\u001b[0;34m\u001b[0m\u001b[0m\n\u001b[0m",
      "\u001b[0;31mTypeError\u001b[0m: Can't instantiate abstract class DLOSymmetric with abstract methods graph_apply"
     ]
    }
   ],
   "source": [
    "class DLODense(DaskLinearOperator):\n",
    "    def __init__(self, array, name=None):\n",
    "        assert isinstance(array, da.Array), 'input is dask.array.Array'\n",
    "        self.data = array\n",
    "        DaskLinearOperator.__init__(self, \n",
    "                                    array.dask, array.shape, array.chunks, array.dtype, \n",
    "                                    optype='dense-DLO')\n",
    "\n",
    "    def graph_apply(self, dsk, input_key, output_key, transpose=False,\n",
    "                    **options):\n",
    "        if not transpose:\n",
    "            idx_out, idx_arr, idx_in = 'i', 'ij', 'j'\n",
    "            blk_arr, blk_in = self.nblocks, (self.nblocks[0],)\n",
    "            fcn = None\n",
    "        else:\n",
    "            idx_out, idx_arr, idx_in = 'j', 'ji', 'i'\n",
    "            blk_arr, blk_in = self.nblocks[::-1], (self.nblocks[1],)\n",
    "            fcn = da.transpose\n",
    "\n",
    "        dsk_out = da.core.top(\n",
    "                da.core.dotmany,\n",
    "                output_key, idx_out,\n",
    "                self.data.name, idx_arr,\n",
    "                input_key, idx_in,\n",
    "                leftfunction=fcn,\n",
    "                numblocks={self.data.name: blk_arr, input_key: blk_in})\n",
    "        return dask.sharedict.merge(self.dask, (dsk_out, output_key))"
   ]
  },
  {
   "cell_type": "code",
   "execution_count": null,
   "metadata": {
    "collapsed": true
   },
   "outputs": [],
   "source": []
  }
 ],
 "metadata": {
  "kernelspec": {
   "display_name": "Python 2",
   "language": "python",
   "name": "python2"
  },
  "language_info": {
   "codemirror_mode": {
    "name": "ipython",
    "version": 2
   },
   "file_extension": ".py",
   "mimetype": "text/x-python",
   "name": "python",
   "nbconvert_exporter": "python",
   "pygments_lexer": "ipython2",
   "version": "2.7.13"
  }
 },
 "nbformat": 4,
 "nbformat_minor": 2
}
